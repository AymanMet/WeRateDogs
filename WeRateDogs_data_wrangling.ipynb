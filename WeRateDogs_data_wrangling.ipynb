{
 "cells": [
  {
   "cell_type": "markdown",
   "metadata": {},
   "source": [
    "## Gather"
   ]
  },
  {
   "cell_type": "code",
   "execution_count": 1,
   "metadata": {},
   "outputs": [],
   "source": [
    "import numpy as np\n",
    "import pandas as pd\n",
    "import datetime\n",
    "import requests\n",
    "import re\n",
    "import tweepy\n",
    "import json\n",
    "import os\n",
    "import scipy as stats\n",
    "import seaborn as sns\n",
    "import matplotlib.pyplot as plt\n",
    "%matplotlib inline\n",
    "import warnings\n",
    "warnings.filterwarnings('ignore')"
   ]
  },
  {
   "cell_type": "code",
   "execution_count": 2,
   "metadata": {},
   "outputs": [],
   "source": [
    "url = 'https://d17h27t6h515a5.cloudfront.net/topher/2017/August/599fd2ad_image-predictions/image-predictions.tsv'\n",
    "response = requests.get(url)\n",
    "file_name = url.split('/')[-1].replace('-', '_')\n",
    "\n",
    "if not os.path.isfile(file_name):\n",
    "    with open(file_name, 'wb')as file:\n",
    "        file.write(response.content)"
   ]
  },
  {
   "cell_type": "code",
   "execution_count": 3,
   "metadata": {},
   "outputs": [],
   "source": [
    "image_predictions = pd.read_csv('image_predictions.tsv', sep='\\t')"
   ]
  },
  {
   "cell_type": "code",
   "execution_count": 4,
   "metadata": {},
   "outputs": [],
   "source": [
    "archive = pd.read_csv('twitter_archive_enhanced.csv')"
   ]
  },
  {
   "cell_type": "markdown",
   "metadata": {},
   "source": [
    "#### In order to extract data from Twitter API you should \n",
    "1. First, if you do not already have one, you need to sign up for a Twitter account.\n",
    "2. Next, to set up a developer account, follow the directions on [Twitter’s Developer Portal, in the “How to Apply” section](https://developer.twitter.com/en/docs/developer-portal/overview).\n",
    "3. If you can't set up a Twitter developer account, or you prefer not to create a Twitter account for some reason, you may instead download it [tweet_json.txt](https://drive.google.com/file/d/12U4lYQ91arTjkxT7L8jzE-5VVdfHwnJM/view)."
   ]
  },
  {
   "cell_type": "code",
   "execution_count": 5,
   "metadata": {},
   "outputs": [],
   "source": [
    "#Insert your keys & tokens in the 4 strings below and make sure not to share them with anyone\n",
    "file = open('twitter_api_creds.txt')\n",
    "lines = file.readlines()\n",
    "\n",
    "consumer_key = lines[0].strip()     # your consumer key\n",
    "consumer_secret = lines[1].strip()  # your consumer secret\n",
    "access_token = lines[2].strip()     # your access token\n",
    "access_secret = lines[3]            # your access secret\n",
    "\n",
    "auth = tweepy.OAuthHandler(consumer_key, consumer_secret)\n",
    "auth.set_access_token(access_token, access_secret)\n",
    "\n",
    "api = tweepy.API(auth, wait_on_rate_limit=True, wait_on_rate_limit_notify=True)"
   ]
  },
  {
   "cell_type": "code",
   "execution_count": 6,
   "metadata": {},
   "outputs": [
    {
     "data": {
      "text/plain": [
       "{'created_at': 'Tue Nov 15 23:44:44 +0000 2016',\n",
       " 'id': 798673117451325440,\n",
       " 'id_str': '798673117451325440',\n",
       " 'full_text': 'RT @dog_rates: I shall call him squishy and he shall be mine, and he shall be my squishy. 13/10 https://t.co/WId5lxNdPH',\n",
       " 'truncated': False,\n",
       " 'display_text_range': [0, 119],\n",
       " 'entities': {'hashtags': [],\n",
       "  'symbols': [],\n",
       "  'user_mentions': [{'screen_name': 'dog_rates',\n",
       "    'name': 'WeRateDogs®',\n",
       "    'id': 4196983835,\n",
       "    'id_str': '4196983835',\n",
       "    'indices': [3, 13]}],\n",
       "  'urls': [],\n",
       "  'media': [{'id': 675501041127936000,\n",
       "    'id_str': '675501041127936000',\n",
       "    'indices': [96, 119],\n",
       "    'media_url': 'http://pbs.twimg.com/media/CV_cnjHWUAADc-c.jpg',\n",
       "    'media_url_https': 'https://pbs.twimg.com/media/CV_cnjHWUAADc-c.jpg',\n",
       "    'url': 'https://t.co/WId5lxNdPH',\n",
       "    'display_url': 'pic.twitter.com/WId5lxNdPH',\n",
       "    'expanded_url': 'https://twitter.com/dog_rates/status/675501075957489664/photo/1',\n",
       "    'type': 'photo',\n",
       "    'sizes': {'small': {'w': 600, 'h': 600, 'resize': 'fit'},\n",
       "     'thumb': {'w': 150, 'h': 150, 'resize': 'crop'},\n",
       "     'large': {'w': 600, 'h': 600, 'resize': 'fit'},\n",
       "     'medium': {'w': 600, 'h': 600, 'resize': 'fit'}},\n",
       "    'source_status_id': 675501075957489664,\n",
       "    'source_status_id_str': '675501075957489664',\n",
       "    'source_user_id': 4196983835,\n",
       "    'source_user_id_str': '4196983835'}]},\n",
       " 'extended_entities': {'media': [{'id': 675501041127936000,\n",
       "    'id_str': '675501041127936000',\n",
       "    'indices': [96, 119],\n",
       "    'media_url': 'http://pbs.twimg.com/media/CV_cnjHWUAADc-c.jpg',\n",
       "    'media_url_https': 'https://pbs.twimg.com/media/CV_cnjHWUAADc-c.jpg',\n",
       "    'url': 'https://t.co/WId5lxNdPH',\n",
       "    'display_url': 'pic.twitter.com/WId5lxNdPH',\n",
       "    'expanded_url': 'https://twitter.com/dog_rates/status/675501075957489664/photo/1',\n",
       "    'type': 'photo',\n",
       "    'sizes': {'small': {'w': 600, 'h': 600, 'resize': 'fit'},\n",
       "     'thumb': {'w': 150, 'h': 150, 'resize': 'crop'},\n",
       "     'large': {'w': 600, 'h': 600, 'resize': 'fit'},\n",
       "     'medium': {'w': 600, 'h': 600, 'resize': 'fit'}},\n",
       "    'source_status_id': 675501075957489664,\n",
       "    'source_status_id_str': '675501075957489664',\n",
       "    'source_user_id': 4196983835,\n",
       "    'source_user_id_str': '4196983835'}]},\n",
       " 'source': '<a href=\"http://twitter.com/download/iphone\" rel=\"nofollow\">Twitter for iPhone</a>',\n",
       " 'in_reply_to_status_id': None,\n",
       " 'in_reply_to_status_id_str': None,\n",
       " 'in_reply_to_user_id': None,\n",
       " 'in_reply_to_user_id_str': None,\n",
       " 'in_reply_to_screen_name': None,\n",
       " 'user': {'id': 4196983835,\n",
       "  'id_str': '4196983835',\n",
       "  'name': 'WeRateDogs®',\n",
       "  'screen_name': 'dog_rates',\n",
       "  'location': 'links and things ➜',\n",
       "  'description': 'Your Only Source For Professional Dog Ratings Instagram and Facebook ➜ WeRateDogs partnerships@weratedogs.com ⠀⠀⠀⠀⠀⠀⠀⠀⠀⠀⠀⠀',\n",
       "  'url': 'https://t.co/6ytGi24QCk',\n",
       "  'entities': {'url': {'urls': [{'url': 'https://t.co/6ytGi24QCk',\n",
       "      'expanded_url': 'http://campsite.bio/weratedogs',\n",
       "      'display_url': 'campsite.bio/weratedogs',\n",
       "      'indices': [0, 23]}]},\n",
       "   'description': {'urls': []}},\n",
       "  'protected': False,\n",
       "  'followers_count': 8988792,\n",
       "  'friends_count': 16,\n",
       "  'listed_count': 6477,\n",
       "  'created_at': 'Sun Nov 15 21:41:29 +0000 2015',\n",
       "  'favourites_count': 145729,\n",
       "  'utc_offset': None,\n",
       "  'time_zone': None,\n",
       "  'geo_enabled': True,\n",
       "  'verified': True,\n",
       "  'statuses_count': 13570,\n",
       "  'lang': None,\n",
       "  'contributors_enabled': False,\n",
       "  'is_translator': False,\n",
       "  'is_translation_enabled': False,\n",
       "  'profile_background_color': '000000',\n",
       "  'profile_background_image_url': 'http://abs.twimg.com/images/themes/theme1/bg.png',\n",
       "  'profile_background_image_url_https': 'https://abs.twimg.com/images/themes/theme1/bg.png',\n",
       "  'profile_background_tile': False,\n",
       "  'profile_image_url': 'http://pbs.twimg.com/profile_images/1351720980972933122/I3MnYUdm_normal.jpg',\n",
       "  'profile_image_url_https': 'https://pbs.twimg.com/profile_images/1351720980972933122/I3MnYUdm_normal.jpg',\n",
       "  'profile_banner_url': 'https://pbs.twimg.com/profile_banners/4196983835/1611883974',\n",
       "  'profile_link_color': 'F5ABB5',\n",
       "  'profile_sidebar_border_color': '000000',\n",
       "  'profile_sidebar_fill_color': '000000',\n",
       "  'profile_text_color': '000000',\n",
       "  'profile_use_background_image': False,\n",
       "  'has_extended_profile': False,\n",
       "  'default_profile': False,\n",
       "  'default_profile_image': False,\n",
       "  'following': False,\n",
       "  'follow_request_sent': False,\n",
       "  'notifications': False,\n",
       "  'translator_type': 'none'},\n",
       " 'geo': None,\n",
       " 'coordinates': None,\n",
       " 'place': None,\n",
       " 'contributors': None,\n",
       " 'retweeted_status': {'created_at': 'Sat Dec 12 02:23:01 +0000 2015',\n",
       "  'id': 675501075957489664,\n",
       "  'id_str': '675501075957489664',\n",
       "  'full_text': 'I shall call him squishy and he shall be mine, and he shall be my squishy. 13/10 https://t.co/WId5lxNdPH',\n",
       "  'truncated': False,\n",
       "  'display_text_range': [0, 104],\n",
       "  'entities': {'hashtags': [],\n",
       "   'symbols': [],\n",
       "   'user_mentions': [],\n",
       "   'urls': [],\n",
       "   'media': [{'id': 675501041127936000,\n",
       "     'id_str': '675501041127936000',\n",
       "     'indices': [81, 104],\n",
       "     'media_url': 'http://pbs.twimg.com/media/CV_cnjHWUAADc-c.jpg',\n",
       "     'media_url_https': 'https://pbs.twimg.com/media/CV_cnjHWUAADc-c.jpg',\n",
       "     'url': 'https://t.co/WId5lxNdPH',\n",
       "     'display_url': 'pic.twitter.com/WId5lxNdPH',\n",
       "     'expanded_url': 'https://twitter.com/dog_rates/status/675501075957489664/photo/1',\n",
       "     'type': 'photo',\n",
       "     'sizes': {'small': {'w': 600, 'h': 600, 'resize': 'fit'},\n",
       "      'thumb': {'w': 150, 'h': 150, 'resize': 'crop'},\n",
       "      'large': {'w': 600, 'h': 600, 'resize': 'fit'},\n",
       "      'medium': {'w': 600, 'h': 600, 'resize': 'fit'}}}]},\n",
       "  'extended_entities': {'media': [{'id': 675501041127936000,\n",
       "     'id_str': '675501041127936000',\n",
       "     'indices': [81, 104],\n",
       "     'media_url': 'http://pbs.twimg.com/media/CV_cnjHWUAADc-c.jpg',\n",
       "     'media_url_https': 'https://pbs.twimg.com/media/CV_cnjHWUAADc-c.jpg',\n",
       "     'url': 'https://t.co/WId5lxNdPH',\n",
       "     'display_url': 'pic.twitter.com/WId5lxNdPH',\n",
       "     'expanded_url': 'https://twitter.com/dog_rates/status/675501075957489664/photo/1',\n",
       "     'type': 'photo',\n",
       "     'sizes': {'small': {'w': 600, 'h': 600, 'resize': 'fit'},\n",
       "      'thumb': {'w': 150, 'h': 150, 'resize': 'crop'},\n",
       "      'large': {'w': 600, 'h': 600, 'resize': 'fit'},\n",
       "      'medium': {'w': 600, 'h': 600, 'resize': 'fit'}}}]},\n",
       "  'source': '<a href=\"http://twitter.com/download/iphone\" rel=\"nofollow\">Twitter for iPhone</a>',\n",
       "  'in_reply_to_status_id': None,\n",
       "  'in_reply_to_status_id_str': None,\n",
       "  'in_reply_to_user_id': None,\n",
       "  'in_reply_to_user_id_str': None,\n",
       "  'in_reply_to_screen_name': None,\n",
       "  'user': {'id': 4196983835,\n",
       "   'id_str': '4196983835',\n",
       "   'name': 'WeRateDogs®',\n",
       "   'screen_name': 'dog_rates',\n",
       "   'location': 'links and things ➜',\n",
       "   'description': 'Your Only Source For Professional Dog Ratings Instagram and Facebook ➜ WeRateDogs partnerships@weratedogs.com ⠀⠀⠀⠀⠀⠀⠀⠀⠀⠀⠀⠀',\n",
       "   'url': 'https://t.co/6ytGi24QCk',\n",
       "   'entities': {'url': {'urls': [{'url': 'https://t.co/6ytGi24QCk',\n",
       "       'expanded_url': 'http://campsite.bio/weratedogs',\n",
       "       'display_url': 'campsite.bio/weratedogs',\n",
       "       'indices': [0, 23]}]},\n",
       "    'description': {'urls': []}},\n",
       "   'protected': False,\n",
       "   'followers_count': 8988792,\n",
       "   'friends_count': 16,\n",
       "   'listed_count': 6477,\n",
       "   'created_at': 'Sun Nov 15 21:41:29 +0000 2015',\n",
       "   'favourites_count': 145729,\n",
       "   'utc_offset': None,\n",
       "   'time_zone': None,\n",
       "   'geo_enabled': True,\n",
       "   'verified': True,\n",
       "   'statuses_count': 13570,\n",
       "   'lang': None,\n",
       "   'contributors_enabled': False,\n",
       "   'is_translator': False,\n",
       "   'is_translation_enabled': False,\n",
       "   'profile_background_color': '000000',\n",
       "   'profile_background_image_url': 'http://abs.twimg.com/images/themes/theme1/bg.png',\n",
       "   'profile_background_image_url_https': 'https://abs.twimg.com/images/themes/theme1/bg.png',\n",
       "   'profile_background_tile': False,\n",
       "   'profile_image_url': 'http://pbs.twimg.com/profile_images/1351720980972933122/I3MnYUdm_normal.jpg',\n",
       "   'profile_image_url_https': 'https://pbs.twimg.com/profile_images/1351720980972933122/I3MnYUdm_normal.jpg',\n",
       "   'profile_banner_url': 'https://pbs.twimg.com/profile_banners/4196983835/1611883974',\n",
       "   'profile_link_color': 'F5ABB5',\n",
       "   'profile_sidebar_border_color': '000000',\n",
       "   'profile_sidebar_fill_color': '000000',\n",
       "   'profile_text_color': '000000',\n",
       "   'profile_use_background_image': False,\n",
       "   'has_extended_profile': False,\n",
       "   'default_profile': False,\n",
       "   'default_profile_image': False,\n",
       "   'following': False,\n",
       "   'follow_request_sent': False,\n",
       "   'notifications': False,\n",
       "   'translator_type': 'none'},\n",
       "  'geo': None,\n",
       "  'coordinates': None,\n",
       "  'place': None,\n",
       "  'contributors': None,\n",
       "  'is_quote_status': False,\n",
       "  'retweet_count': 5453,\n",
       "  'favorite_count': 16150,\n",
       "  'favorited': False,\n",
       "  'retweeted': False,\n",
       "  'possibly_sensitive': False,\n",
       "  'possibly_sensitive_appealable': False,\n",
       "  'lang': 'en'},\n",
       " 'is_quote_status': False,\n",
       " 'retweet_count': 5453,\n",
       " 'favorite_count': 0,\n",
       " 'favorited': False,\n",
       " 'retweeted': False,\n",
       " 'possibly_sensitive': False,\n",
       " 'possibly_sensitive_appealable': False,\n",
       " 'lang': 'en'}"
      ]
     },
     "execution_count": 6,
     "metadata": {},
     "output_type": "execute_result"
    }
   ],
   "source": [
    "exp_tweet = api.get_status(archive.tweet_id[600], tweet_mode = 'extended')\n",
    "content = exp_tweet._json\n",
    "content"
   ]
  },
  {
   "cell_type": "code",
   "execution_count": 7,
   "metadata": {},
   "outputs": [
    {
     "data": {
      "text/plain": [
       "dict_keys(['created_at', 'id', 'id_str', 'full_text', 'truncated', 'display_text_range', 'entities', 'extended_entities', 'source', 'in_reply_to_status_id', 'in_reply_to_status_id_str', 'in_reply_to_user_id', 'in_reply_to_user_id_str', 'in_reply_to_screen_name', 'user', 'geo', 'coordinates', 'place', 'contributors', 'retweeted_status', 'is_quote_status', 'retweet_count', 'favorite_count', 'favorited', 'retweeted', 'possibly_sensitive', 'possibly_sensitive_appealable', 'lang'])"
      ]
     },
     "execution_count": 7,
     "metadata": {},
     "output_type": "execute_result"
    }
   ],
   "source": [
    "content.keys()"
   ]
  },
  {
   "cell_type": "code",
   "execution_count": 8,
   "metadata": {},
   "outputs": [
    {
     "data": {
      "text/plain": [
       "(5453, 798673117451325440, 0, 8988792)"
      ]
     },
     "execution_count": 8,
     "metadata": {},
     "output_type": "execute_result"
    }
   ],
   "source": [
    "#Getting the retweet_count and favorite_count for the test tweet and user_followers_count\n",
    "content['retweet_count'], content['id'], content['favorite_count'], content['user']['followers_count']"
   ]
  },
  {
   "cell_type": "code",
   "execution_count": 9,
   "metadata": {},
   "outputs": [
    {
     "name": "stdout",
     "output_type": "stream",
     "text": [
      "Error on tweet id 888202515573088257;[{'code': 144, 'message': 'No status found with that ID.'}]\n"
     ]
    },
    {
     "name": "stderr",
     "output_type": "stream",
     "text": [
      "Rate limit reached. Sleeping for: 146\n"
     ]
    },
    {
     "name": "stdout",
     "output_type": "stream",
     "text": [
      "Error on tweet id 874057562936811520;Failed to send request: ('Connection aborted.', ConnectionResetError(10054, 'An existing connection was forcibly closed by the remote host', None, 10054, None))\n",
      "Error on tweet id 874012996292530176;Failed to send request: ('Connection aborted.', ConnectionResetError(10054, 'An existing connection was forcibly closed by the remote host', None, 10054, None))\n",
      "Error on tweet id 873697596434513921;[{'code': 144, 'message': 'No status found with that ID.'}]\n",
      "Error on tweet id 872820683541237760;Failed to send request: ('Connection aborted.', ConnectionResetError(10054, 'An existing connection was forcibly closed by the remote host', None, 10054, None))\n",
      "Error on tweet id 872668790621863937;[{'code': 144, 'message': 'No status found with that ID.'}]\n",
      "Error on tweet id 872261713294495745;[{'code': 144, 'message': 'No status found with that ID.'}]\n",
      "Error on tweet id 871879754684805121;Failed to send request: ('Connection aborted.', ConnectionResetError(10054, 'An existing connection was forcibly closed by the remote host', None, 10054, None))\n",
      "Error on tweet id 869988702071779329;[{'code': 144, 'message': 'No status found with that ID.'}]\n",
      "Error on tweet id 866816280283807744;[{'code': 144, 'message': 'No status found with that ID.'}]\n",
      "Error on tweet id 866334964761202691;Failed to send request: ('Connection aborted.', ConnectionResetError(10054, 'An existing connection was forcibly closed by the remote host', None, 10054, None))\n",
      "Error on tweet id 863432100342583297;Failed to send request: ('Connection aborted.', ConnectionResetError(10054, 'An existing connection was forcibly closed by the remote host', None, 10054, None))\n",
      "Error on tweet id 861769973181624320;[{'code': 144, 'message': 'No status found with that ID.'}]\n",
      "Error on tweet id 856602993587888130;[{'code': 144, 'message': 'No status found with that ID.'}]\n",
      "Error on tweet id 854732716440526848;Failed to send request: ('Connection aborted.', ConnectionResetError(10054, 'An existing connection was forcibly closed by the remote host', None, 10054, None))\n",
      "Error on tweet id 854010172552949760;Failed to send request: ('Connection aborted.', ConnectionResetError(10054, 'An existing connection was forcibly closed by the remote host', None, 10054, None))\n",
      "Error on tweet id 851953902622658560;[{'code': 144, 'message': 'No status found with that ID.'}]\n",
      "Error on tweet id 851591660324737024;Failed to send request: ('Connection aborted.', ConnectionResetError(10054, 'An existing connection was forcibly closed by the remote host', None, 10054, None))\n",
      "Error on tweet id 845459076796616705;[{'code': 144, 'message': 'No status found with that ID.'}]\n",
      "Error on tweet id 844704788403113984;[{'code': 144, 'message': 'No status found with that ID.'}]\n",
      "Error on tweet id 842892208864923648;[{'code': 144, 'message': 'No status found with that ID.'}]\n",
      "Error on tweet id 840696689258311684;Failed to send request: ('Connection aborted.', ConnectionResetError(10054, 'An existing connection was forcibly closed by the remote host', None, 10054, None))\n",
      "Error on tweet id 837366284874571778;Failed to send request: ('Connection aborted.', ConnectionResetError(10054, 'An existing connection was forcibly closed by the remote host', None, 10054, None))\n",
      "Error on tweet id 837012587749474308;[{'code': 144, 'message': 'No status found with that ID.'}]\n",
      "Error on tweet id 832682457690300417;Failed to send request: ('Connection aborted.', ConnectionResetError(10054, 'An existing connection was forcibly closed by the remote host', None, 10054, None))\n",
      "Error on tweet id 829374341691346946;[{'code': 144, 'message': 'No status found with that ID.'}]\n",
      "Error on tweet id 827228250799742977;[{'code': 144, 'message': 'No status found with that ID.'}]\n",
      "Error on tweet id 826958653328592898;Failed to send request: ('Connection aborted.', ConnectionResetError(10054, 'An existing connection was forcibly closed by the remote host', None, 10054, None))\n",
      "Error on tweet id 819004803107983360;Failed to send request: ('Connection aborted.', ConnectionResetError(10054, 'An existing connection was forcibly closed by the remote host', None, 10054, None))\n",
      "Error on tweet id 812747805718642688;[{'code': 144, 'message': 'No status found with that ID.'}]\n",
      "Error on tweet id 808106460588765185;Failed to send request: ('Connection aborted.', ConnectionResetError(10054, 'An existing connection was forcibly closed by the remote host', None, 10054, None))\n",
      "Error on tweet id 804475857670639616;Failed to send request: ('Connection aborted.', ConnectionResetError(10054, 'An existing connection was forcibly closed by the remote host', None, 10054, None))\n",
      "Error on tweet id 802247111496568832;[{'code': 144, 'message': 'No status found with that ID.'}]\n",
      "Error on tweet id 780931614150983680;Failed to send request: ('Connection aborted.', ConnectionResetError(10054, 'An existing connection was forcibly closed by the remote host', None, 10054, None))\n",
      "Error on tweet id 779123168116150273;[{'code': 144, 'message': 'No status found with that ID.'}]\n",
      "Error on tweet id 775096608509886464;[{'code': 144, 'message': 'No status found with that ID.'}]\n",
      "Error on tweet id 771004394259247104;[{'code': 179, 'message': 'Sorry, you are not authorized to see this status.'}]\n",
      "Error on tweet id 770743923962707968;[{'code': 144, 'message': 'No status found with that ID.'}]\n",
      "Error on tweet id 759566828574212096;[{'code': 144, 'message': 'No status found with that ID.'}]\n",
      "Error on tweet id 754011816964026368;[{'code': 144, 'message': 'No status found with that ID.'}]\n"
     ]
    },
    {
     "name": "stderr",
     "output_type": "stream",
     "text": [
      "Rate limit reached. Sleeping for: 205\n"
     ]
    },
    {
     "name": "stdout",
     "output_type": "stream",
     "text": [
      "Error on tweet id 746872823977771008;Failed to send request: ('Connection aborted.', ConnectionResetError(10054, 'An existing connection was forcibly closed by the remote host', None, 10054, None))\n",
      "Error on tweet id 746056683365994496;Failed to send request: ('Connection aborted.', ConnectionResetError(10054, 'An existing connection was forcibly closed by the remote host', None, 10054, None))\n",
      "Error on tweet id 739606147276148736;Failed to send request: ('Connection aborted.', ConnectionResetError(10054, 'An existing connection was forcibly closed by the remote host', None, 10054, None))\n",
      "Error on tweet id 738402415918125056;Failed to send request: ('Connection aborted.', ConnectionResetError(10054, 'An existing connection was forcibly closed by the remote host', None, 10054, None))\n",
      "Error on tweet id 735274964362878976;Failed to send request: ('Connection aborted.', ConnectionResetError(10054, 'An existing connection was forcibly closed by the remote host', None, 10054, None))\n",
      "Error on tweet id 719704490224398336;Failed to send request: ('Connection aborted.', ConnectionResetError(10054, 'An existing connection was forcibly closed by the remote host', None, 10054, None))\n",
      "Error on tweet id 717009362452090881;Failed to send request: ('Connection aborted.', ConnectionResetError(10054, 'An existing connection was forcibly closed by the remote host', None, 10054, None))\n",
      "Error on tweet id 711998809858043904;Failed to send request: ('Connection aborted.', ConnectionResetError(10054, 'An existing connection was forcibly closed by the remote host', None, 10054, None))\n",
      "Error on tweet id 708149363256774660;Failed to send request: ('Connection aborted.', ConnectionResetError(10054, 'An existing connection was forcibly closed by the remote host', None, 10054, None))\n",
      "Error on tweet id 706644897839910912;Failed to send request: ('Connection aborted.', ConnectionResetError(10054, 'An existing connection was forcibly closed by the remote host', None, 10054, None))\n",
      "Error on tweet id 704499785726889984;Failed to send request: ('Connection aborted.', ConnectionResetError(10054, 'An existing connection was forcibly closed by the remote host', None, 10054, None))\n"
     ]
    },
    {
     "ename": "KeyboardInterrupt",
     "evalue": "",
     "output_type": "error",
     "traceback": [
      "\u001b[1;31m---------------------------------------------------------------------------\u001b[0m",
      "\u001b[1;31mKeyboardInterrupt\u001b[0m                         Traceback (most recent call last)",
      "\u001b[1;32m<ipython-input-9-c6edf68718dc>\u001b[0m in \u001b[0;36m<module>\u001b[1;34m\u001b[0m\n\u001b[0;32m      4\u001b[0m         \u001b[1;32mfor\u001b[0m \u001b[0mtweet_id\u001b[0m \u001b[1;32min\u001b[0m \u001b[0marchive\u001b[0m\u001b[1;33m[\u001b[0m\u001b[1;34m'tweet_id'\u001b[0m\u001b[1;33m]\u001b[0m\u001b[1;33m:\u001b[0m\u001b[1;33m\u001b[0m\u001b[1;33m\u001b[0m\u001b[0m\n\u001b[0;32m      5\u001b[0m             \u001b[1;32mtry\u001b[0m\u001b[1;33m:\u001b[0m\u001b[1;33m\u001b[0m\u001b[1;33m\u001b[0m\u001b[0m\n\u001b[1;32m----> 6\u001b[1;33m                 status = api.get_status(tweet_id, wait_on_rate_limit=True,\n\u001b[0m\u001b[0;32m      7\u001b[0m                                         \u001b[0mwait_on_rate_limit_notify\u001b[0m\u001b[1;33m=\u001b[0m\u001b[1;32mTrue\u001b[0m\u001b[1;33m,\u001b[0m\u001b[1;33m\u001b[0m\u001b[1;33m\u001b[0m\u001b[0m\n\u001b[0;32m      8\u001b[0m                                         tweet_mode = 'extended')\n",
      "\u001b[1;32m~\\anaconda3\\lib\\site-packages\\tweepy\\binder.py\u001b[0m in \u001b[0;36m_call\u001b[1;34m(*args, **kwargs)\u001b[0m\n\u001b[0;32m    251\u001b[0m                 \u001b[1;32mreturn\u001b[0m \u001b[0mmethod\u001b[0m\u001b[1;33m\u001b[0m\u001b[1;33m\u001b[0m\u001b[0m\n\u001b[0;32m    252\u001b[0m             \u001b[1;32melse\u001b[0m\u001b[1;33m:\u001b[0m\u001b[1;33m\u001b[0m\u001b[1;33m\u001b[0m\u001b[0m\n\u001b[1;32m--> 253\u001b[1;33m                 \u001b[1;32mreturn\u001b[0m \u001b[0mmethod\u001b[0m\u001b[1;33m.\u001b[0m\u001b[0mexecute\u001b[0m\u001b[1;33m(\u001b[0m\u001b[1;33m)\u001b[0m\u001b[1;33m\u001b[0m\u001b[1;33m\u001b[0m\u001b[0m\n\u001b[0m\u001b[0;32m    254\u001b[0m         \u001b[1;32mfinally\u001b[0m\u001b[1;33m:\u001b[0m\u001b[1;33m\u001b[0m\u001b[1;33m\u001b[0m\u001b[0m\n\u001b[0;32m    255\u001b[0m             \u001b[0mmethod\u001b[0m\u001b[1;33m.\u001b[0m\u001b[0msession\u001b[0m\u001b[1;33m.\u001b[0m\u001b[0mclose\u001b[0m\u001b[1;33m(\u001b[0m\u001b[1;33m)\u001b[0m\u001b[1;33m\u001b[0m\u001b[1;33m\u001b[0m\u001b[0m\n",
      "\u001b[1;32m~\\anaconda3\\lib\\site-packages\\tweepy\\binder.py\u001b[0m in \u001b[0;36mexecute\u001b[1;34m(self)\u001b[0m\n\u001b[0;32m    182\u001b[0m                 \u001b[1;31m# Execute request\u001b[0m\u001b[1;33m\u001b[0m\u001b[1;33m\u001b[0m\u001b[1;33m\u001b[0m\u001b[0m\n\u001b[0;32m    183\u001b[0m                 \u001b[1;32mtry\u001b[0m\u001b[1;33m:\u001b[0m\u001b[1;33m\u001b[0m\u001b[1;33m\u001b[0m\u001b[0m\n\u001b[1;32m--> 184\u001b[1;33m                     resp = self.session.request(self.method,\n\u001b[0m\u001b[0;32m    185\u001b[0m                                                 \u001b[0mfull_url\u001b[0m\u001b[1;33m,\u001b[0m\u001b[1;33m\u001b[0m\u001b[1;33m\u001b[0m\u001b[0m\n\u001b[0;32m    186\u001b[0m                                                 \u001b[0mdata\u001b[0m\u001b[1;33m=\u001b[0m\u001b[0mself\u001b[0m\u001b[1;33m.\u001b[0m\u001b[0mpost_data\u001b[0m\u001b[1;33m,\u001b[0m\u001b[1;33m\u001b[0m\u001b[1;33m\u001b[0m\u001b[0m\n",
      "\u001b[1;32m~\\anaconda3\\lib\\site-packages\\requests\\sessions.py\u001b[0m in \u001b[0;36mrequest\u001b[1;34m(self, method, url, params, data, headers, cookies, files, auth, timeout, allow_redirects, proxies, hooks, stream, verify, cert, json)\u001b[0m\n\u001b[0;32m    528\u001b[0m         }\n\u001b[0;32m    529\u001b[0m         \u001b[0msend_kwargs\u001b[0m\u001b[1;33m.\u001b[0m\u001b[0mupdate\u001b[0m\u001b[1;33m(\u001b[0m\u001b[0msettings\u001b[0m\u001b[1;33m)\u001b[0m\u001b[1;33m\u001b[0m\u001b[1;33m\u001b[0m\u001b[0m\n\u001b[1;32m--> 530\u001b[1;33m         \u001b[0mresp\u001b[0m \u001b[1;33m=\u001b[0m \u001b[0mself\u001b[0m\u001b[1;33m.\u001b[0m\u001b[0msend\u001b[0m\u001b[1;33m(\u001b[0m\u001b[0mprep\u001b[0m\u001b[1;33m,\u001b[0m \u001b[1;33m**\u001b[0m\u001b[0msend_kwargs\u001b[0m\u001b[1;33m)\u001b[0m\u001b[1;33m\u001b[0m\u001b[1;33m\u001b[0m\u001b[0m\n\u001b[0m\u001b[0;32m    531\u001b[0m \u001b[1;33m\u001b[0m\u001b[0m\n\u001b[0;32m    532\u001b[0m         \u001b[1;32mreturn\u001b[0m \u001b[0mresp\u001b[0m\u001b[1;33m\u001b[0m\u001b[1;33m\u001b[0m\u001b[0m\n",
      "\u001b[1;32m~\\anaconda3\\lib\\site-packages\\requests\\sessions.py\u001b[0m in \u001b[0;36msend\u001b[1;34m(self, request, **kwargs)\u001b[0m\n\u001b[0;32m    641\u001b[0m \u001b[1;33m\u001b[0m\u001b[0m\n\u001b[0;32m    642\u001b[0m         \u001b[1;31m# Send the request\u001b[0m\u001b[1;33m\u001b[0m\u001b[1;33m\u001b[0m\u001b[1;33m\u001b[0m\u001b[0m\n\u001b[1;32m--> 643\u001b[1;33m         \u001b[0mr\u001b[0m \u001b[1;33m=\u001b[0m \u001b[0madapter\u001b[0m\u001b[1;33m.\u001b[0m\u001b[0msend\u001b[0m\u001b[1;33m(\u001b[0m\u001b[0mrequest\u001b[0m\u001b[1;33m,\u001b[0m \u001b[1;33m**\u001b[0m\u001b[0mkwargs\u001b[0m\u001b[1;33m)\u001b[0m\u001b[1;33m\u001b[0m\u001b[1;33m\u001b[0m\u001b[0m\n\u001b[0m\u001b[0;32m    644\u001b[0m \u001b[1;33m\u001b[0m\u001b[0m\n\u001b[0;32m    645\u001b[0m         \u001b[1;31m# Total elapsed time of the request (approximately)\u001b[0m\u001b[1;33m\u001b[0m\u001b[1;33m\u001b[0m\u001b[1;33m\u001b[0m\u001b[0m\n",
      "\u001b[1;32m~\\anaconda3\\lib\\site-packages\\requests\\adapters.py\u001b[0m in \u001b[0;36msend\u001b[1;34m(self, request, stream, timeout, verify, cert, proxies)\u001b[0m\n\u001b[0;32m    437\u001b[0m         \u001b[1;32mtry\u001b[0m\u001b[1;33m:\u001b[0m\u001b[1;33m\u001b[0m\u001b[1;33m\u001b[0m\u001b[0m\n\u001b[0;32m    438\u001b[0m             \u001b[1;32mif\u001b[0m \u001b[1;32mnot\u001b[0m \u001b[0mchunked\u001b[0m\u001b[1;33m:\u001b[0m\u001b[1;33m\u001b[0m\u001b[1;33m\u001b[0m\u001b[0m\n\u001b[1;32m--> 439\u001b[1;33m                 resp = conn.urlopen(\n\u001b[0m\u001b[0;32m    440\u001b[0m                     \u001b[0mmethod\u001b[0m\u001b[1;33m=\u001b[0m\u001b[0mrequest\u001b[0m\u001b[1;33m.\u001b[0m\u001b[0mmethod\u001b[0m\u001b[1;33m,\u001b[0m\u001b[1;33m\u001b[0m\u001b[1;33m\u001b[0m\u001b[0m\n\u001b[0;32m    441\u001b[0m                     \u001b[0murl\u001b[0m\u001b[1;33m=\u001b[0m\u001b[0murl\u001b[0m\u001b[1;33m,\u001b[0m\u001b[1;33m\u001b[0m\u001b[1;33m\u001b[0m\u001b[0m\n",
      "\u001b[1;32m~\\anaconda3\\lib\\site-packages\\urllib3\\connectionpool.py\u001b[0m in \u001b[0;36murlopen\u001b[1;34m(self, method, url, body, headers, retries, redirect, assert_same_host, timeout, pool_timeout, release_conn, chunked, body_pos, **response_kw)\u001b[0m\n\u001b[0;32m    668\u001b[0m \u001b[1;33m\u001b[0m\u001b[0m\n\u001b[0;32m    669\u001b[0m             \u001b[1;31m# Make the request on the httplib connection object.\u001b[0m\u001b[1;33m\u001b[0m\u001b[1;33m\u001b[0m\u001b[1;33m\u001b[0m\u001b[0m\n\u001b[1;32m--> 670\u001b[1;33m             httplib_response = self._make_request(\n\u001b[0m\u001b[0;32m    671\u001b[0m                 \u001b[0mconn\u001b[0m\u001b[1;33m,\u001b[0m\u001b[1;33m\u001b[0m\u001b[1;33m\u001b[0m\u001b[0m\n\u001b[0;32m    672\u001b[0m                 \u001b[0mmethod\u001b[0m\u001b[1;33m,\u001b[0m\u001b[1;33m\u001b[0m\u001b[1;33m\u001b[0m\u001b[0m\n",
      "\u001b[1;32m~\\anaconda3\\lib\\site-packages\\urllib3\\connectionpool.py\u001b[0m in \u001b[0;36m_make_request\u001b[1;34m(self, conn, method, url, timeout, chunked, **httplib_request_kw)\u001b[0m\n\u001b[0;32m    379\u001b[0m         \u001b[1;31m# Trigger any extra validation we need to do.\u001b[0m\u001b[1;33m\u001b[0m\u001b[1;33m\u001b[0m\u001b[1;33m\u001b[0m\u001b[0m\n\u001b[0;32m    380\u001b[0m         \u001b[1;32mtry\u001b[0m\u001b[1;33m:\u001b[0m\u001b[1;33m\u001b[0m\u001b[1;33m\u001b[0m\u001b[0m\n\u001b[1;32m--> 381\u001b[1;33m             \u001b[0mself\u001b[0m\u001b[1;33m.\u001b[0m\u001b[0m_validate_conn\u001b[0m\u001b[1;33m(\u001b[0m\u001b[0mconn\u001b[0m\u001b[1;33m)\u001b[0m\u001b[1;33m\u001b[0m\u001b[1;33m\u001b[0m\u001b[0m\n\u001b[0m\u001b[0;32m    382\u001b[0m         \u001b[1;32mexcept\u001b[0m \u001b[1;33m(\u001b[0m\u001b[0mSocketTimeout\u001b[0m\u001b[1;33m,\u001b[0m \u001b[0mBaseSSLError\u001b[0m\u001b[1;33m)\u001b[0m \u001b[1;32mas\u001b[0m \u001b[0me\u001b[0m\u001b[1;33m:\u001b[0m\u001b[1;33m\u001b[0m\u001b[1;33m\u001b[0m\u001b[0m\n\u001b[0;32m    383\u001b[0m             \u001b[1;31m# Py2 raises this as a BaseSSLError, Py3 raises it as socket timeout.\u001b[0m\u001b[1;33m\u001b[0m\u001b[1;33m\u001b[0m\u001b[1;33m\u001b[0m\u001b[0m\n",
      "\u001b[1;32m~\\anaconda3\\lib\\site-packages\\urllib3\\connectionpool.py\u001b[0m in \u001b[0;36m_validate_conn\u001b[1;34m(self, conn)\u001b[0m\n\u001b[0;32m    976\u001b[0m         \u001b[1;31m# Force connect early to allow us to validate the connection.\u001b[0m\u001b[1;33m\u001b[0m\u001b[1;33m\u001b[0m\u001b[1;33m\u001b[0m\u001b[0m\n\u001b[0;32m    977\u001b[0m         \u001b[1;32mif\u001b[0m \u001b[1;32mnot\u001b[0m \u001b[0mgetattr\u001b[0m\u001b[1;33m(\u001b[0m\u001b[0mconn\u001b[0m\u001b[1;33m,\u001b[0m \u001b[1;34m\"sock\"\u001b[0m\u001b[1;33m,\u001b[0m \u001b[1;32mNone\u001b[0m\u001b[1;33m)\u001b[0m\u001b[1;33m:\u001b[0m  \u001b[1;31m# AppEngine might not have  `.sock`\u001b[0m\u001b[1;33m\u001b[0m\u001b[1;33m\u001b[0m\u001b[0m\n\u001b[1;32m--> 978\u001b[1;33m             \u001b[0mconn\u001b[0m\u001b[1;33m.\u001b[0m\u001b[0mconnect\u001b[0m\u001b[1;33m(\u001b[0m\u001b[1;33m)\u001b[0m\u001b[1;33m\u001b[0m\u001b[1;33m\u001b[0m\u001b[0m\n\u001b[0m\u001b[0;32m    979\u001b[0m \u001b[1;33m\u001b[0m\u001b[0m\n\u001b[0;32m    980\u001b[0m         \u001b[1;32mif\u001b[0m \u001b[1;32mnot\u001b[0m \u001b[0mconn\u001b[0m\u001b[1;33m.\u001b[0m\u001b[0mis_verified\u001b[0m\u001b[1;33m:\u001b[0m\u001b[1;33m\u001b[0m\u001b[1;33m\u001b[0m\u001b[0m\n",
      "\u001b[1;32m~\\anaconda3\\lib\\site-packages\\urllib3\\connection.py\u001b[0m in \u001b[0;36mconnect\u001b[1;34m(self)\u001b[0m\n\u001b[0;32m    307\u001b[0m     \u001b[1;32mdef\u001b[0m \u001b[0mconnect\u001b[0m\u001b[1;33m(\u001b[0m\u001b[0mself\u001b[0m\u001b[1;33m)\u001b[0m\u001b[1;33m:\u001b[0m\u001b[1;33m\u001b[0m\u001b[1;33m\u001b[0m\u001b[0m\n\u001b[0;32m    308\u001b[0m         \u001b[1;31m# Add certificate verification\u001b[0m\u001b[1;33m\u001b[0m\u001b[1;33m\u001b[0m\u001b[1;33m\u001b[0m\u001b[0m\n\u001b[1;32m--> 309\u001b[1;33m         \u001b[0mconn\u001b[0m \u001b[1;33m=\u001b[0m \u001b[0mself\u001b[0m\u001b[1;33m.\u001b[0m\u001b[0m_new_conn\u001b[0m\u001b[1;33m(\u001b[0m\u001b[1;33m)\u001b[0m\u001b[1;33m\u001b[0m\u001b[1;33m\u001b[0m\u001b[0m\n\u001b[0m\u001b[0;32m    310\u001b[0m         \u001b[0mhostname\u001b[0m \u001b[1;33m=\u001b[0m \u001b[0mself\u001b[0m\u001b[1;33m.\u001b[0m\u001b[0mhost\u001b[0m\u001b[1;33m\u001b[0m\u001b[1;33m\u001b[0m\u001b[0m\n\u001b[0;32m    311\u001b[0m \u001b[1;33m\u001b[0m\u001b[0m\n",
      "\u001b[1;32m~\\anaconda3\\lib\\site-packages\\urllib3\\connection.py\u001b[0m in \u001b[0;36m_new_conn\u001b[1;34m(self)\u001b[0m\n\u001b[0;32m    157\u001b[0m \u001b[1;33m\u001b[0m\u001b[0m\n\u001b[0;32m    158\u001b[0m         \u001b[1;32mtry\u001b[0m\u001b[1;33m:\u001b[0m\u001b[1;33m\u001b[0m\u001b[1;33m\u001b[0m\u001b[0m\n\u001b[1;32m--> 159\u001b[1;33m             conn = connection.create_connection(\n\u001b[0m\u001b[0;32m    160\u001b[0m                 \u001b[1;33m(\u001b[0m\u001b[0mself\u001b[0m\u001b[1;33m.\u001b[0m\u001b[0m_dns_host\u001b[0m\u001b[1;33m,\u001b[0m \u001b[0mself\u001b[0m\u001b[1;33m.\u001b[0m\u001b[0mport\u001b[0m\u001b[1;33m)\u001b[0m\u001b[1;33m,\u001b[0m \u001b[0mself\u001b[0m\u001b[1;33m.\u001b[0m\u001b[0mtimeout\u001b[0m\u001b[1;33m,\u001b[0m \u001b[1;33m**\u001b[0m\u001b[0mextra_kw\u001b[0m\u001b[1;33m\u001b[0m\u001b[1;33m\u001b[0m\u001b[0m\n\u001b[0;32m    161\u001b[0m             )\n",
      "\u001b[1;32m~\\anaconda3\\lib\\site-packages\\urllib3\\util\\connection.py\u001b[0m in \u001b[0;36mcreate_connection\u001b[1;34m(address, timeout, source_address, socket_options)\u001b[0m\n\u001b[0;32m     72\u001b[0m             \u001b[1;32mif\u001b[0m \u001b[0msource_address\u001b[0m\u001b[1;33m:\u001b[0m\u001b[1;33m\u001b[0m\u001b[1;33m\u001b[0m\u001b[0m\n\u001b[0;32m     73\u001b[0m                 \u001b[0msock\u001b[0m\u001b[1;33m.\u001b[0m\u001b[0mbind\u001b[0m\u001b[1;33m(\u001b[0m\u001b[0msource_address\u001b[0m\u001b[1;33m)\u001b[0m\u001b[1;33m\u001b[0m\u001b[1;33m\u001b[0m\u001b[0m\n\u001b[1;32m---> 74\u001b[1;33m             \u001b[0msock\u001b[0m\u001b[1;33m.\u001b[0m\u001b[0mconnect\u001b[0m\u001b[1;33m(\u001b[0m\u001b[0msa\u001b[0m\u001b[1;33m)\u001b[0m\u001b[1;33m\u001b[0m\u001b[1;33m\u001b[0m\u001b[0m\n\u001b[0m\u001b[0;32m     75\u001b[0m             \u001b[1;32mreturn\u001b[0m \u001b[0msock\u001b[0m\u001b[1;33m\u001b[0m\u001b[1;33m\u001b[0m\u001b[0m\n\u001b[0;32m     76\u001b[0m \u001b[1;33m\u001b[0m\u001b[0m\n",
      "\u001b[1;31mKeyboardInterrupt\u001b[0m: "
     ]
    }
   ],
   "source": [
    "errors = []\n",
    "if not os.path.isfile('tweet_json.txt'):\n",
    "    with open ('tweet_json.txt', 'w') as file:\n",
    "        for tweet_id in archive['tweet_id']:\n",
    "            try:\n",
    "                status = api.get_status(tweet_id, wait_on_rate_limit=True,\n",
    "                                        wait_on_rate_limit_notify=True,\n",
    "                                        tweet_mode = 'extended')\n",
    "                json.dump(status._json, file)\n",
    "                file.write('\\n')\n",
    "            except Exception as e:\n",
    "                print(\"Error on tweet id {}\".format(tweet_id) + \";\" + str(e))\n",
    "                errors.append(tweet_id)"
   ]
  },
  {
   "cell_type": "code",
   "execution_count": 10,
   "metadata": {},
   "outputs": [
    {
     "data": {
      "text/plain": [
       "51"
      ]
     },
     "execution_count": 10,
     "metadata": {},
     "output_type": "execute_result"
    }
   ],
   "source": [
    "len(errors)"
   ]
  },
  {
   "cell_type": "code",
   "execution_count": 11,
   "metadata": {},
   "outputs": [
    {
     "name": "stdout",
     "output_type": "stream",
     "text": [
      "892420643555336193\n",
      "7456\n",
      "35324\n",
      "8910492\n"
     ]
    }
   ],
   "source": [
    "with open('tweet_json.txt', encoding='utf-8') as file:\n",
    "    for line in file:\n",
    "        tweet = json.loads(line)\n",
    "    \n",
    "        print(tweet['id'])\n",
    "        print(tweet['retweet_count'])\n",
    "        print(tweet['favorite_count'])\n",
    "        print(tweet['user']['followers_count'])\n",
    "        break"
   ]
  },
  {
   "cell_type": "code",
   "execution_count": 12,
   "metadata": {},
   "outputs": [],
   "source": [
    "twitter_API_list = []\n",
    "with open('tweet_json.txt', encoding='utf-8') as file:\n",
    "    for line in file:\n",
    "        tweet = json.loads(line)\n",
    "    \n",
    "        tweet_id = tweet['id']\n",
    "        retweet_count = tweet['retweet_count']\n",
    "        favorite_count = tweet['favorite_count']\n",
    "        user_followers_count = tweet['user']['followers_count']\n",
    "    \n",
    "        # Append to list of dictionaries\n",
    "        twitter_API_list.append({'tweet_id':tweet_id,\n",
    "                                 'retweet_count':retweet_count,\n",
    "                                 'favorite_count':favorite_count,\n",
    "                                 'user_followers_count':user_followers_count})\n",
    "        \n",
    "twitter_API = pd.DataFrame(twitter_API_list, columns = ['tweet_id', 'retweet_count', 'favorite_count', 'user_followers_count'])"
   ]
  },
  {
   "cell_type": "markdown",
   "metadata": {},
   "source": [
    "***\n",
    "***\n",
    "## Assess"
   ]
  },
  {
   "cell_type": "code",
   "execution_count": 13,
   "metadata": {},
   "outputs": [
    {
     "name": "stdout",
     "output_type": "stream",
     "text": [
      "<class 'pandas.core.frame.DataFrame'>\n",
      "RangeIndex: 2356 entries, 0 to 2355\n",
      "Data columns (total 17 columns):\n",
      " #   Column                      Non-Null Count  Dtype  \n",
      "---  ------                      --------------  -----  \n",
      " 0   tweet_id                    2356 non-null   int64  \n",
      " 1   in_reply_to_status_id       78 non-null     float64\n",
      " 2   in_reply_to_user_id         78 non-null     float64\n",
      " 3   timestamp                   2356 non-null   object \n",
      " 4   source                      2356 non-null   object \n",
      " 5   text                        2356 non-null   object \n",
      " 6   retweeted_status_id         181 non-null    float64\n",
      " 7   retweeted_status_user_id    181 non-null    float64\n",
      " 8   retweeted_status_timestamp  181 non-null    object \n",
      " 9   expanded_urls               2297 non-null   object \n",
      " 10  rating_numerator            2356 non-null   int64  \n",
      " 11  rating_denominator          2356 non-null   int64  \n",
      " 12  name                        2356 non-null   object \n",
      " 13  doggo                       2356 non-null   object \n",
      " 14  floofer                     2356 non-null   object \n",
      " 15  pupper                      2356 non-null   object \n",
      " 16  puppo                       2356 non-null   object \n",
      "dtypes: float64(4), int64(3), object(10)\n",
      "memory usage: 313.0+ KB\n"
     ]
    }
   ],
   "source": [
    "archive.info()"
   ]
  },
  {
   "cell_type": "code",
   "execution_count": 14,
   "metadata": {},
   "outputs": [
    {
     "data": {
      "text/html": [
       "<div>\n",
       "<style scoped>\n",
       "    .dataframe tbody tr th:only-of-type {\n",
       "        vertical-align: middle;\n",
       "    }\n",
       "\n",
       "    .dataframe tbody tr th {\n",
       "        vertical-align: top;\n",
       "    }\n",
       "\n",
       "    .dataframe thead th {\n",
       "        text-align: right;\n",
       "    }\n",
       "</style>\n",
       "<table border=\"1\" class=\"dataframe\">\n",
       "  <thead>\n",
       "    <tr style=\"text-align: right;\">\n",
       "      <th></th>\n",
       "      <th>tweet_id</th>\n",
       "      <th>in_reply_to_status_id</th>\n",
       "      <th>in_reply_to_user_id</th>\n",
       "      <th>timestamp</th>\n",
       "      <th>source</th>\n",
       "      <th>text</th>\n",
       "      <th>retweeted_status_id</th>\n",
       "      <th>retweeted_status_user_id</th>\n",
       "      <th>retweeted_status_timestamp</th>\n",
       "      <th>expanded_urls</th>\n",
       "      <th>rating_numerator</th>\n",
       "      <th>rating_denominator</th>\n",
       "      <th>name</th>\n",
       "      <th>doggo</th>\n",
       "      <th>floofer</th>\n",
       "      <th>pupper</th>\n",
       "      <th>puppo</th>\n",
       "    </tr>\n",
       "  </thead>\n",
       "  <tbody>\n",
       "    <tr>\n",
       "      <th>1171</th>\n",
       "      <td>720415127506415616</td>\n",
       "      <td>NaN</td>\n",
       "      <td>NaN</td>\n",
       "      <td>2016-04-14 00:55:25 +0000</td>\n",
       "      <td>&lt;a href=\"http://twitter.com/download/iphone\" r...</td>\n",
       "      <td>Garden's coming in nice this year. 10/10 https...</td>\n",
       "      <td>NaN</td>\n",
       "      <td>NaN</td>\n",
       "      <td>NaN</td>\n",
       "      <td>https://twitter.com/dog_rates/status/720415127...</td>\n",
       "      <td>10</td>\n",
       "      <td>10</td>\n",
       "      <td>None</td>\n",
       "      <td>None</td>\n",
       "      <td>None</td>\n",
       "      <td>None</td>\n",
       "      <td>None</td>\n",
       "    </tr>\n",
       "    <tr>\n",
       "      <th>2321</th>\n",
       "      <td>666435652385423360</td>\n",
       "      <td>NaN</td>\n",
       "      <td>NaN</td>\n",
       "      <td>2015-11-17 02:00:15 +0000</td>\n",
       "      <td>&lt;a href=\"http://twitter.com/download/iphone\" r...</td>\n",
       "      <td>\"Can you behave? You're ruining my wedding day...</td>\n",
       "      <td>NaN</td>\n",
       "      <td>NaN</td>\n",
       "      <td>NaN</td>\n",
       "      <td>https://twitter.com/dog_rates/status/666435652...</td>\n",
       "      <td>10</td>\n",
       "      <td>10</td>\n",
       "      <td>None</td>\n",
       "      <td>None</td>\n",
       "      <td>None</td>\n",
       "      <td>None</td>\n",
       "      <td>None</td>\n",
       "    </tr>\n",
       "    <tr>\n",
       "      <th>1764</th>\n",
       "      <td>678424312106393600</td>\n",
       "      <td>NaN</td>\n",
       "      <td>NaN</td>\n",
       "      <td>2015-12-20 03:58:55 +0000</td>\n",
       "      <td>&lt;a href=\"http://twitter.com/download/iphone\" r...</td>\n",
       "      <td>This is Crystal. She's a shitty fireman. No se...</td>\n",
       "      <td>NaN</td>\n",
       "      <td>NaN</td>\n",
       "      <td>NaN</td>\n",
       "      <td>https://twitter.com/dog_rates/status/678424312...</td>\n",
       "      <td>2</td>\n",
       "      <td>10</td>\n",
       "      <td>Crystal</td>\n",
       "      <td>None</td>\n",
       "      <td>None</td>\n",
       "      <td>None</td>\n",
       "      <td>None</td>\n",
       "    </tr>\n",
       "    <tr>\n",
       "      <th>490</th>\n",
       "      <td>813812741911748608</td>\n",
       "      <td>NaN</td>\n",
       "      <td>NaN</td>\n",
       "      <td>2016-12-27 18:24:12 +0000</td>\n",
       "      <td>&lt;a href=\"http://twitter.com/download/iphone\" r...</td>\n",
       "      <td>Meet Gary, Carrie Fisher's dog. Idk what I can...</td>\n",
       "      <td>NaN</td>\n",
       "      <td>NaN</td>\n",
       "      <td>NaN</td>\n",
       "      <td>https://twitter.com/dog_rates/status/813812741...</td>\n",
       "      <td>14</td>\n",
       "      <td>10</td>\n",
       "      <td>Gary</td>\n",
       "      <td>None</td>\n",
       "      <td>None</td>\n",
       "      <td>None</td>\n",
       "      <td>None</td>\n",
       "    </tr>\n",
       "    <tr>\n",
       "      <th>1006</th>\n",
       "      <td>747648653817413632</td>\n",
       "      <td>NaN</td>\n",
       "      <td>NaN</td>\n",
       "      <td>2016-06-28 04:31:44 +0000</td>\n",
       "      <td>&lt;a href=\"http://vine.co\" rel=\"nofollow\"&gt;Vine -...</td>\n",
       "      <td>This is Keurig. He apparently headbutts other ...</td>\n",
       "      <td>NaN</td>\n",
       "      <td>NaN</td>\n",
       "      <td>NaN</td>\n",
       "      <td>https://vine.co/v/iqIZFtOxEMB</td>\n",
       "      <td>12</td>\n",
       "      <td>10</td>\n",
       "      <td>Keurig</td>\n",
       "      <td>None</td>\n",
       "      <td>None</td>\n",
       "      <td>None</td>\n",
       "      <td>None</td>\n",
       "    </tr>\n",
       "  </tbody>\n",
       "</table>\n",
       "</div>"
      ],
      "text/plain": [
       "                tweet_id  in_reply_to_status_id  in_reply_to_user_id  \\\n",
       "1171  720415127506415616                    NaN                  NaN   \n",
       "2321  666435652385423360                    NaN                  NaN   \n",
       "1764  678424312106393600                    NaN                  NaN   \n",
       "490   813812741911748608                    NaN                  NaN   \n",
       "1006  747648653817413632                    NaN                  NaN   \n",
       "\n",
       "                      timestamp  \\\n",
       "1171  2016-04-14 00:55:25 +0000   \n",
       "2321  2015-11-17 02:00:15 +0000   \n",
       "1764  2015-12-20 03:58:55 +0000   \n",
       "490   2016-12-27 18:24:12 +0000   \n",
       "1006  2016-06-28 04:31:44 +0000   \n",
       "\n",
       "                                                 source  \\\n",
       "1171  <a href=\"http://twitter.com/download/iphone\" r...   \n",
       "2321  <a href=\"http://twitter.com/download/iphone\" r...   \n",
       "1764  <a href=\"http://twitter.com/download/iphone\" r...   \n",
       "490   <a href=\"http://twitter.com/download/iphone\" r...   \n",
       "1006  <a href=\"http://vine.co\" rel=\"nofollow\">Vine -...   \n",
       "\n",
       "                                                   text  retweeted_status_id  \\\n",
       "1171  Garden's coming in nice this year. 10/10 https...                  NaN   \n",
       "2321  \"Can you behave? You're ruining my wedding day...                  NaN   \n",
       "1764  This is Crystal. She's a shitty fireman. No se...                  NaN   \n",
       "490   Meet Gary, Carrie Fisher's dog. Idk what I can...                  NaN   \n",
       "1006  This is Keurig. He apparently headbutts other ...                  NaN   \n",
       "\n",
       "      retweeted_status_user_id retweeted_status_timestamp  \\\n",
       "1171                       NaN                        NaN   \n",
       "2321                       NaN                        NaN   \n",
       "1764                       NaN                        NaN   \n",
       "490                        NaN                        NaN   \n",
       "1006                       NaN                        NaN   \n",
       "\n",
       "                                          expanded_urls  rating_numerator  \\\n",
       "1171  https://twitter.com/dog_rates/status/720415127...                10   \n",
       "2321  https://twitter.com/dog_rates/status/666435652...                10   \n",
       "1764  https://twitter.com/dog_rates/status/678424312...                 2   \n",
       "490   https://twitter.com/dog_rates/status/813812741...                14   \n",
       "1006                      https://vine.co/v/iqIZFtOxEMB                12   \n",
       "\n",
       "      rating_denominator     name doggo floofer pupper puppo  \n",
       "1171                  10     None  None    None   None  None  \n",
       "2321                  10     None  None    None   None  None  \n",
       "1764                  10  Crystal  None    None   None  None  \n",
       "490                   10     Gary  None    None   None  None  \n",
       "1006                  10   Keurig  None    None   None  None  "
      ]
     },
     "execution_count": 14,
     "metadata": {},
     "output_type": "execute_result"
    }
   ],
   "source": [
    "archive.sample(5)"
   ]
  },
  {
   "cell_type": "code",
   "execution_count": 15,
   "metadata": {
    "scrolled": true
   },
   "outputs": [
    {
     "data": {
      "text/plain": [
       "None         745\n",
       "a             55\n",
       "Charlie       12\n",
       "Cooper        11\n",
       "Oliver        11\n",
       "            ... \n",
       "light          1\n",
       "Alexander      1\n",
       "Akumi          1\n",
       "Mimosa         1\n",
       "Pubert         1\n",
       "Name: name, Length: 957, dtype: int64"
      ]
     },
     "execution_count": 15,
     "metadata": {},
     "output_type": "execute_result"
    }
   ],
   "source": [
    "archive.name.value_counts()"
   ]
  },
  {
   "cell_type": "code",
   "execution_count": 16,
   "metadata": {
    "scrolled": true
   },
   "outputs": [
    {
     "data": {
      "text/plain": [
       "['a',\n",
       " 'actually',\n",
       " 'all',\n",
       " 'an',\n",
       " 'by',\n",
       " 'getting',\n",
       " 'his',\n",
       " 'incredibly',\n",
       " 'infuriating',\n",
       " 'just',\n",
       " 'life',\n",
       " 'light',\n",
       " 'mad',\n",
       " 'my',\n",
       " 'not',\n",
       " 'officially',\n",
       " 'old',\n",
       " 'one',\n",
       " 'quite',\n",
       " 'space',\n",
       " 'such',\n",
       " 'the',\n",
       " 'this',\n",
       " 'unacceptable',\n",
       " 'very']"
      ]
     },
     "execution_count": 16,
     "metadata": {},
     "output_type": "execute_result"
    }
   ],
   "source": [
    "names = sorted(list(archive.name.unique()))\n",
    "wrong_names = []\n",
    "for name in names:\n",
    "    if name.islower():\n",
    "        wrong_names.append(name)\n",
    "wrong_names"
   ]
  },
  {
   "cell_type": "code",
   "execution_count": 17,
   "metadata": {},
   "outputs": [
    {
     "data": {
      "text/plain": [
       "109"
      ]
     },
     "execution_count": 17,
     "metadata": {},
     "output_type": "execute_result"
    }
   ],
   "source": [
    "total_wrong_names = 0\n",
    "for x in wrong_names:\n",
    "    total_wrong_names += archive[archive.name == x].name.value_counts().sum()\n",
    "total_wrong_names"
   ]
  },
  {
   "cell_type": "code",
   "execution_count": 18,
   "metadata": {},
   "outputs": [
    {
     "data": {
      "text/plain": [
       "(None     2259\n",
       " doggo      97\n",
       " Name: doggo, dtype: int64,\n",
       " '',\n",
       " None       2346\n",
       " floofer      10\n",
       " Name: floofer, dtype: int64)"
      ]
     },
     "execution_count": 18,
     "metadata": {},
     "output_type": "execute_result"
    }
   ],
   "source": [
    "archive.doggo.value_counts(), '', archive.floofer.value_counts()"
   ]
  },
  {
   "cell_type": "code",
   "execution_count": 19,
   "metadata": {},
   "outputs": [
    {
     "data": {
      "text/plain": [
       "(None      2099\n",
       " pupper     257\n",
       " Name: pupper, dtype: int64,\n",
       " '',\n",
       " None     2326\n",
       " puppo      30\n",
       " Name: puppo, dtype: int64)"
      ]
     },
     "execution_count": 19,
     "metadata": {},
     "output_type": "execute_result"
    }
   ],
   "source": [
    "archive.pupper.value_counts(), '', archive.puppo.value_counts()"
   ]
  },
  {
   "cell_type": "code",
   "execution_count": 20,
   "metadata": {},
   "outputs": [
    {
     "data": {
      "text/plain": [
       "count    2356.000000\n",
       "mean       13.126486\n",
       "std        45.876648\n",
       "min         0.000000\n",
       "25%        10.000000\n",
       "50%        11.000000\n",
       "75%        12.000000\n",
       "max      1776.000000\n",
       "Name: rating_numerator, dtype: float64"
      ]
     },
     "execution_count": 20,
     "metadata": {},
     "output_type": "execute_result"
    }
   ],
   "source": [
    "archive.rating_numerator.describe()"
   ]
  },
  {
   "cell_type": "code",
   "execution_count": 21,
   "metadata": {},
   "outputs": [
    {
     "data": {
      "text/plain": [
       "count    2356.000000\n",
       "mean       10.455433\n",
       "std         6.745237\n",
       "min         0.000000\n",
       "25%        10.000000\n",
       "50%        10.000000\n",
       "75%        10.000000\n",
       "max       170.000000\n",
       "Name: rating_denominator, dtype: float64"
      ]
     },
     "execution_count": 21,
     "metadata": {},
     "output_type": "execute_result"
    }
   ],
   "source": [
    "archive.rating_denominator.describe()"
   ]
  },
  {
   "cell_type": "code",
   "execution_count": 22,
   "metadata": {},
   "outputs": [
    {
     "name": "stdout",
     "output_type": "stream",
     "text": [
      "<class 'pandas.core.frame.DataFrame'>\n",
      "RangeIndex: 2075 entries, 0 to 2074\n",
      "Data columns (total 12 columns):\n",
      " #   Column    Non-Null Count  Dtype  \n",
      "---  ------    --------------  -----  \n",
      " 0   tweet_id  2075 non-null   int64  \n",
      " 1   jpg_url   2075 non-null   object \n",
      " 2   img_num   2075 non-null   int64  \n",
      " 3   p1        2075 non-null   object \n",
      " 4   p1_conf   2075 non-null   float64\n",
      " 5   p1_dog    2075 non-null   bool   \n",
      " 6   p2        2075 non-null   object \n",
      " 7   p2_conf   2075 non-null   float64\n",
      " 8   p2_dog    2075 non-null   bool   \n",
      " 9   p3        2075 non-null   object \n",
      " 10  p3_conf   2075 non-null   float64\n",
      " 11  p3_dog    2075 non-null   bool   \n",
      "dtypes: bool(3), float64(3), int64(2), object(4)\n",
      "memory usage: 152.1+ KB\n"
     ]
    }
   ],
   "source": [
    "image_predictions.info()"
   ]
  },
  {
   "cell_type": "code",
   "execution_count": 23,
   "metadata": {},
   "outputs": [
    {
     "data": {
      "text/html": [
       "<div>\n",
       "<style scoped>\n",
       "    .dataframe tbody tr th:only-of-type {\n",
       "        vertical-align: middle;\n",
       "    }\n",
       "\n",
       "    .dataframe tbody tr th {\n",
       "        vertical-align: top;\n",
       "    }\n",
       "\n",
       "    .dataframe thead th {\n",
       "        text-align: right;\n",
       "    }\n",
       "</style>\n",
       "<table border=\"1\" class=\"dataframe\">\n",
       "  <thead>\n",
       "    <tr style=\"text-align: right;\">\n",
       "      <th></th>\n",
       "      <th>tweet_id</th>\n",
       "      <th>jpg_url</th>\n",
       "      <th>img_num</th>\n",
       "      <th>p1</th>\n",
       "      <th>p1_conf</th>\n",
       "      <th>p1_dog</th>\n",
       "      <th>p2</th>\n",
       "      <th>p2_conf</th>\n",
       "      <th>p2_dog</th>\n",
       "      <th>p3</th>\n",
       "      <th>p3_conf</th>\n",
       "      <th>p3_dog</th>\n",
       "    </tr>\n",
       "  </thead>\n",
       "  <tbody>\n",
       "    <tr>\n",
       "      <th>926</th>\n",
       "      <td>702598099714314240</td>\n",
       "      <td>https://pbs.twimg.com/media/CcAhPevW8AAoknv.jpg</td>\n",
       "      <td>1</td>\n",
       "      <td>kelpie</td>\n",
       "      <td>0.219179</td>\n",
       "      <td>True</td>\n",
       "      <td>badger</td>\n",
       "      <td>0.133584</td>\n",
       "      <td>False</td>\n",
       "      <td>Siamese_cat</td>\n",
       "      <td>0.074440</td>\n",
       "      <td>False</td>\n",
       "    </tr>\n",
       "    <tr>\n",
       "      <th>549</th>\n",
       "      <td>677530072887205888</td>\n",
       "      <td>https://pbs.twimg.com/media/CWcSAI-WUAAOB9W.jpg</td>\n",
       "      <td>1</td>\n",
       "      <td>Staffordshire_bullterrier</td>\n",
       "      <td>0.689259</td>\n",
       "      <td>True</td>\n",
       "      <td>Norwegian_elkhound</td>\n",
       "      <td>0.026121</td>\n",
       "      <td>True</td>\n",
       "      <td>American_Staffordshire_terrier</td>\n",
       "      <td>0.023075</td>\n",
       "      <td>True</td>\n",
       "    </tr>\n",
       "    <tr>\n",
       "      <th>1191</th>\n",
       "      <td>739932936087216128</td>\n",
       "      <td>https://pbs.twimg.com/media/CkTFEe-W0AA90m1.jpg</td>\n",
       "      <td>1</td>\n",
       "      <td>redbone</td>\n",
       "      <td>0.243904</td>\n",
       "      <td>True</td>\n",
       "      <td>beagle</td>\n",
       "      <td>0.210975</td>\n",
       "      <td>True</td>\n",
       "      <td>vizsla</td>\n",
       "      <td>0.076443</td>\n",
       "      <td>True</td>\n",
       "    </tr>\n",
       "    <tr>\n",
       "      <th>1493</th>\n",
       "      <td>783085703974514689</td>\n",
       "      <td>https://pbs.twimg.com/media/Ct4URfWUAAQ7lKe.jpg</td>\n",
       "      <td>1</td>\n",
       "      <td>Chesapeake_Bay_retriever</td>\n",
       "      <td>0.240602</td>\n",
       "      <td>True</td>\n",
       "      <td>Airedale</td>\n",
       "      <td>0.164088</td>\n",
       "      <td>True</td>\n",
       "      <td>boxer</td>\n",
       "      <td>0.134506</td>\n",
       "      <td>True</td>\n",
       "    </tr>\n",
       "    <tr>\n",
       "      <th>1514</th>\n",
       "      <td>786664955043049472</td>\n",
       "      <td>https://pbs.twimg.com/media/CurLmoqXgAEPoJ-.jpg</td>\n",
       "      <td>1</td>\n",
       "      <td>Leonberg</td>\n",
       "      <td>0.512034</td>\n",
       "      <td>True</td>\n",
       "      <td>keeshond</td>\n",
       "      <td>0.464816</td>\n",
       "      <td>True</td>\n",
       "      <td>Pomeranian</td>\n",
       "      <td>0.007812</td>\n",
       "      <td>True</td>\n",
       "    </tr>\n",
       "  </tbody>\n",
       "</table>\n",
       "</div>"
      ],
      "text/plain": [
       "                tweet_id                                          jpg_url  \\\n",
       "926   702598099714314240  https://pbs.twimg.com/media/CcAhPevW8AAoknv.jpg   \n",
       "549   677530072887205888  https://pbs.twimg.com/media/CWcSAI-WUAAOB9W.jpg   \n",
       "1191  739932936087216128  https://pbs.twimg.com/media/CkTFEe-W0AA90m1.jpg   \n",
       "1493  783085703974514689  https://pbs.twimg.com/media/Ct4URfWUAAQ7lKe.jpg   \n",
       "1514  786664955043049472  https://pbs.twimg.com/media/CurLmoqXgAEPoJ-.jpg   \n",
       "\n",
       "      img_num                         p1   p1_conf  p1_dog  \\\n",
       "926         1                     kelpie  0.219179    True   \n",
       "549         1  Staffordshire_bullterrier  0.689259    True   \n",
       "1191        1                    redbone  0.243904    True   \n",
       "1493        1   Chesapeake_Bay_retriever  0.240602    True   \n",
       "1514        1                   Leonberg  0.512034    True   \n",
       "\n",
       "                      p2   p2_conf  p2_dog                              p3  \\\n",
       "926               badger  0.133584   False                     Siamese_cat   \n",
       "549   Norwegian_elkhound  0.026121    True  American_Staffordshire_terrier   \n",
       "1191              beagle  0.210975    True                          vizsla   \n",
       "1493            Airedale  0.164088    True                           boxer   \n",
       "1514            keeshond  0.464816    True                      Pomeranian   \n",
       "\n",
       "       p3_conf  p3_dog  \n",
       "926   0.074440   False  \n",
       "549   0.023075    True  \n",
       "1191  0.076443    True  \n",
       "1493  0.134506    True  \n",
       "1514  0.007812    True  "
      ]
     },
     "execution_count": 23,
     "metadata": {},
     "output_type": "execute_result"
    }
   ],
   "source": [
    "image_predictions.sample(5)"
   ]
  },
  {
   "cell_type": "code",
   "execution_count": 24,
   "metadata": {},
   "outputs": [
    {
     "data": {
      "text/plain": [
       "True     1499\n",
       "False     576\n",
       "Name: p3_dog, dtype: int64"
      ]
     },
     "execution_count": 24,
     "metadata": {},
     "output_type": "execute_result"
    }
   ],
   "source": [
    "image_predictions.p3_dog.value_counts()"
   ]
  },
  {
   "cell_type": "code",
   "execution_count": 25,
   "metadata": {},
   "outputs": [
    {
     "name": "stdout",
     "output_type": "stream",
     "text": [
      "First Prediction list: \n",
      "golden_retriever      150\n",
      "Labrador_retriever    100\n",
      "Pembroke               89\n",
      "Chihuahua              83\n",
      "pug                    57\n",
      "                     ... \n",
      "fire_engine             1\n",
      "nail                    1\n",
      "walking_stick           1\n",
      "sunglasses              1\n",
      "hammer                  1\n",
      "Name: p1, Length: 378, dtype: int64\n",
      "\n",
      "Second Prediction list: \n",
      "Labrador_retriever    104\n",
      "golden_retriever       92\n",
      "Cardigan               73\n",
      "Chihuahua              44\n",
      "Pomeranian             42\n",
      "                     ... \n",
      "coffee_mug              1\n",
      "bearskin                1\n",
      "rain_barrel             1\n",
      "cornet                  1\n",
      "sweatshirt              1\n",
      "Name: p2, Length: 405, dtype: int64\n",
      "\n",
      "Third Prediction list: \n",
      "Labrador_retriever    79\n",
      "Chihuahua             58\n",
      "golden_retriever      48\n",
      "Eskimo_dog            38\n",
      "kelpie                35\n",
      "                      ..\n",
      "hand_blower            1\n",
      "buckeye                1\n",
      "passenger_car          1\n",
      "lion                   1\n",
      "whiptail               1\n",
      "Name: p3, Length: 408, dtype: int64\n",
      "\n"
     ]
    }
   ],
   "source": [
    "print('First Prediction list: \\n', image_predictions.p1.value_counts(), '\\n', sep='')\n",
    "print('Second Prediction list: \\n', image_predictions.p2.value_counts(), '\\n', sep='')\n",
    "print('Third Prediction list: \\n', image_predictions.p3.value_counts(), '\\n', sep='')"
   ]
  },
  {
   "cell_type": "code",
   "execution_count": 26,
   "metadata": {},
   "outputs": [
    {
     "data": {
      "text/plain": [
       "count    2075.000000\n",
       "mean        0.594548\n",
       "std         0.271174\n",
       "min         0.044333\n",
       "25%         0.364412\n",
       "50%         0.588230\n",
       "75%         0.843855\n",
       "max         1.000000\n",
       "Name: p1_conf, dtype: float64"
      ]
     },
     "execution_count": 26,
     "metadata": {},
     "output_type": "execute_result"
    }
   ],
   "source": [
    "image_predictions.p1_conf.describe()"
   ]
  },
  {
   "cell_type": "code",
   "execution_count": 27,
   "metadata": {},
   "outputs": [
    {
     "data": {
      "text/plain": [
       "count    2.075000e+03\n",
       "mean     1.345886e-01\n",
       "std      1.006657e-01\n",
       "min      1.011300e-08\n",
       "25%      5.388625e-02\n",
       "50%      1.181810e-01\n",
       "75%      1.955655e-01\n",
       "max      4.880140e-01\n",
       "Name: p2_conf, dtype: float64"
      ]
     },
     "execution_count": 27,
     "metadata": {},
     "output_type": "execute_result"
    }
   ],
   "source": [
    "image_predictions.p2_conf.describe()"
   ]
  },
  {
   "cell_type": "code",
   "execution_count": 28,
   "metadata": {},
   "outputs": [
    {
     "data": {
      "text/plain": [
       "count    2.075000e+03\n",
       "mean     6.032417e-02\n",
       "std      5.090593e-02\n",
       "min      1.740170e-10\n",
       "25%      1.622240e-02\n",
       "50%      4.944380e-02\n",
       "75%      9.180755e-02\n",
       "max      2.734190e-01\n",
       "Name: p3_conf, dtype: float64"
      ]
     },
     "execution_count": 28,
     "metadata": {},
     "output_type": "execute_result"
    }
   ],
   "source": [
    "image_predictions.p3_conf.describe()"
   ]
  },
  {
   "cell_type": "code",
   "execution_count": 29,
   "metadata": {},
   "outputs": [
    {
     "name": "stdout",
     "output_type": "stream",
     "text": [
      "<class 'pandas.core.frame.DataFrame'>\n",
      "RangeIndex: 2331 entries, 0 to 2330\n",
      "Data columns (total 4 columns):\n",
      " #   Column                Non-Null Count  Dtype\n",
      "---  ------                --------------  -----\n",
      " 0   tweet_id              2331 non-null   int64\n",
      " 1   retweet_count         2331 non-null   int64\n",
      " 2   favorite_count        2331 non-null   int64\n",
      " 3   user_followers_count  2331 non-null   int64\n",
      "dtypes: int64(4)\n",
      "memory usage: 73.0 KB\n"
     ]
    }
   ],
   "source": [
    "twitter_API.info()"
   ]
  },
  {
   "cell_type": "code",
   "execution_count": 30,
   "metadata": {
    "scrolled": true
   },
   "outputs": [
    {
     "data": {
      "text/html": [
       "<div>\n",
       "<style scoped>\n",
       "    .dataframe tbody tr th:only-of-type {\n",
       "        vertical-align: middle;\n",
       "    }\n",
       "\n",
       "    .dataframe tbody tr th {\n",
       "        vertical-align: top;\n",
       "    }\n",
       "\n",
       "    .dataframe thead th {\n",
       "        text-align: right;\n",
       "    }\n",
       "</style>\n",
       "<table border=\"1\" class=\"dataframe\">\n",
       "  <thead>\n",
       "    <tr style=\"text-align: right;\">\n",
       "      <th></th>\n",
       "      <th>tweet_id</th>\n",
       "      <th>retweet_count</th>\n",
       "      <th>favorite_count</th>\n",
       "      <th>user_followers_count</th>\n",
       "    </tr>\n",
       "  </thead>\n",
       "  <tbody>\n",
       "    <tr>\n",
       "      <th>1523</th>\n",
       "      <td>689280876073582592</td>\n",
       "      <td>683</td>\n",
       "      <td>1927</td>\n",
       "      <td>8910519</td>\n",
       "    </tr>\n",
       "    <tr>\n",
       "      <th>998</th>\n",
       "      <td>746542875601690625</td>\n",
       "      <td>1832</td>\n",
       "      <td>4918</td>\n",
       "      <td>8910511</td>\n",
       "    </tr>\n",
       "    <tr>\n",
       "      <th>2244</th>\n",
       "      <td>667509364010450944</td>\n",
       "      <td>1965</td>\n",
       "      <td>6356</td>\n",
       "      <td>8910544</td>\n",
       "    </tr>\n",
       "    <tr>\n",
       "      <th>247</th>\n",
       "      <td>843604394117681152</td>\n",
       "      <td>2630</td>\n",
       "      <td>16423</td>\n",
       "      <td>8910495</td>\n",
       "    </tr>\n",
       "    <tr>\n",
       "      <th>1093</th>\n",
       "      <td>732375214819057664</td>\n",
       "      <td>2422</td>\n",
       "      <td>7825</td>\n",
       "      <td>8910512</td>\n",
       "    </tr>\n",
       "  </tbody>\n",
       "</table>\n",
       "</div>"
      ],
      "text/plain": [
       "                tweet_id  retweet_count  favorite_count  user_followers_count\n",
       "1523  689280876073582592            683            1927               8910519\n",
       "998   746542875601690625           1832            4918               8910511\n",
       "2244  667509364010450944           1965            6356               8910544\n",
       "247   843604394117681152           2630           16423               8910495\n",
       "1093  732375214819057664           2422            7825               8910512"
      ]
     },
     "execution_count": 30,
     "metadata": {},
     "output_type": "execute_result"
    }
   ],
   "source": [
    "twitter_API.sample(5)"
   ]
  },
  {
   "cell_type": "code",
   "execution_count": 31,
   "metadata": {},
   "outputs": [
    {
     "data": {
      "text/html": [
       "<div>\n",
       "<style scoped>\n",
       "    .dataframe tbody tr th:only-of-type {\n",
       "        vertical-align: middle;\n",
       "    }\n",
       "\n",
       "    .dataframe tbody tr th {\n",
       "        vertical-align: top;\n",
       "    }\n",
       "\n",
       "    .dataframe thead th {\n",
       "        text-align: right;\n",
       "    }\n",
       "</style>\n",
       "<table border=\"1\" class=\"dataframe\">\n",
       "  <thead>\n",
       "    <tr style=\"text-align: right;\">\n",
       "      <th></th>\n",
       "      <th>retweet_count</th>\n",
       "      <th>favorite_count</th>\n",
       "      <th>user_followers_count</th>\n",
       "    </tr>\n",
       "  </thead>\n",
       "  <tbody>\n",
       "    <tr>\n",
       "      <th>count</th>\n",
       "      <td>2331.000000</td>\n",
       "      <td>2331.000000</td>\n",
       "      <td>2.331000e+03</td>\n",
       "    </tr>\n",
       "    <tr>\n",
       "      <th>mean</th>\n",
       "      <td>2619.591163</td>\n",
       "      <td>7381.314457</td>\n",
       "      <td>8.910515e+06</td>\n",
       "    </tr>\n",
       "    <tr>\n",
       "      <th>std</th>\n",
       "      <td>4432.015058</td>\n",
       "      <td>11464.575618</td>\n",
       "      <td>1.685265e+01</td>\n",
       "    </tr>\n",
       "    <tr>\n",
       "      <th>min</th>\n",
       "      <td>1.000000</td>\n",
       "      <td>0.000000</td>\n",
       "      <td>8.910492e+06</td>\n",
       "    </tr>\n",
       "    <tr>\n",
       "      <th>25%</th>\n",
       "      <td>530.500000</td>\n",
       "      <td>1283.500000</td>\n",
       "      <td>8.910498e+06</td>\n",
       "    </tr>\n",
       "    <tr>\n",
       "      <th>50%</th>\n",
       "      <td>1223.000000</td>\n",
       "      <td>3203.000000</td>\n",
       "      <td>8.910512e+06</td>\n",
       "    </tr>\n",
       "    <tr>\n",
       "      <th>75%</th>\n",
       "      <td>3041.500000</td>\n",
       "      <td>9030.500000</td>\n",
       "      <td>8.910524e+06</td>\n",
       "    </tr>\n",
       "    <tr>\n",
       "      <th>max</th>\n",
       "      <td>75270.000000</td>\n",
       "      <td>152220.000000</td>\n",
       "      <td>8.910545e+06</td>\n",
       "    </tr>\n",
       "  </tbody>\n",
       "</table>\n",
       "</div>"
      ],
      "text/plain": [
       "       retweet_count  favorite_count  user_followers_count\n",
       "count    2331.000000     2331.000000          2.331000e+03\n",
       "mean     2619.591163     7381.314457          8.910515e+06\n",
       "std      4432.015058    11464.575618          1.685265e+01\n",
       "min         1.000000        0.000000          8.910492e+06\n",
       "25%       530.500000     1283.500000          8.910498e+06\n",
       "50%      1223.000000     3203.000000          8.910512e+06\n",
       "75%      3041.500000     9030.500000          8.910524e+06\n",
       "max     75270.000000   152220.000000          8.910545e+06"
      ]
     },
     "execution_count": 31,
     "metadata": {},
     "output_type": "execute_result"
    }
   ],
   "source": [
    "twitter_API[['retweet_count', 'favorite_count', 'user_followers_count']].describe()"
   ]
  },
  {
   "cell_type": "markdown",
   "metadata": {},
   "source": [
    "### Quality\n",
    "#### **`archive` table**\n",
    "1. 109 erroneous name values (assigned as 'a', 'an', 'actually', 'his', ....)\n",
    "2. tweet_id is an integer not a string\n",
    "3. Inconsistent datatypes (timestamp, retweeted_status_timestamp)\n",
    "4. Tweets without photos exist\n",
    "5. Retweets & replies exist\n",
    "6. Unuseful data (in_reply_to_status_id, in_reply_to_user_id, retweeted_status_id, retweeted_status_user_id, retweeted_status_timestamp)\n",
    "7. None values in dog stage columns\n",
    "\n",
    "#### **`image_pridections` table**\n",
    "8. Undescriptive columns' headers for image_predictions\n",
    "9. tweet_id is an integer not a string\n",
    "\n",
    "#### **`twitter_API` table**\n",
    "10. tweet_id is an integer not a string"
   ]
  },
  {
   "cell_type": "markdown",
   "metadata": {},
   "source": [
    "### Tidiness\n",
    "1. Dog stage are values represented as column names in archive table\n",
    "2. Information about one type of observational unit (tweets) is spread across three different files/dataframes"
   ]
  },
  {
   "cell_type": "markdown",
   "metadata": {},
   "source": [
    "***\n",
    "***\n",
    "## Clean"
   ]
  },
  {
   "cell_type": "code",
   "execution_count": 32,
   "metadata": {},
   "outputs": [],
   "source": [
    "archive_clean = archive.copy()\n",
    "image_predictions_clean = image_predictions.copy()\n",
    "api_clean = twitter_API.copy()"
   ]
  },
  {
   "cell_type": "markdown",
   "metadata": {},
   "source": [
    "###  Missing Data"
   ]
  },
  {
   "cell_type": "markdown",
   "metadata": {},
   "source": [
    "#### 1. 109 erroneous name values (assigned as 'a', 'an', 'actually', 'his', ....)"
   ]
  },
  {
   "cell_type": "markdown",
   "metadata": {},
   "source": [
    "##### Define\n",
    "archive: Iterate text columns trying to extract dog names, and putting NaN if name is not found."
   ]
  },
  {
   "cell_type": "code",
   "execution_count": 33,
   "metadata": {},
   "outputs": [
    {
     "name": "stdout",
     "output_type": "stream",
     "text": [
      "0 tweet_id                                                     892420643555336193\n",
      "in_reply_to_status_id                                                       NaN\n",
      "in_reply_to_user_id                                                         NaN\n",
      "timestamp                                             2017-08-01 16:23:56 +0000\n",
      "source                        <a href=\"http://twitter.com/download/iphone\" r...\n",
      "text                          This is Phineas. He's a mystical boy. Only eve...\n",
      "retweeted_status_id                                                         NaN\n",
      "retweeted_status_user_id                                                    NaN\n",
      "retweeted_status_timestamp                                                  NaN\n",
      "expanded_urls                 https://twitter.com/dog_rates/status/892420643...\n",
      "rating_numerator                                                             13\n",
      "rating_denominator                                                           10\n",
      "name                                                                    Phineas\n",
      "doggo                                                                      None\n",
      "floofer                                                                    None\n",
      "pupper                                                                     None\n",
      "puppo                                                                      None\n",
      "Name: 0, dtype: object\n"
     ]
    }
   ],
   "source": [
    "for index, row in archive_clean.iterrows():\n",
    "    print (index, row)\n",
    "    break"
   ]
  },
  {
   "cell_type": "code",
   "execution_count": 34,
   "metadata": {},
   "outputs": [],
   "source": [
    "pattern_2 = re.compile(r'(?:name(?:d)?)\\s{1}(?:is\\s)?([A-Za-z]+)')\n",
    "for index, row in archive_clean.iterrows():\n",
    "    try:\n",
    "        for wrong in wrong_names:\n",
    "            if row['name'] == wrong:\n",
    "                c_name = re.findall(pattern_2, row['text'])[0]\n",
    "                archive_clean.loc[index,'name'] = archive_clean.loc[index,'name'].replace('a', c_name)\n",
    "    except IndexError:\n",
    "        archive_clean.loc[index,'name'] = np.nan\n",
    "    if row['name'] == 'my':\n",
    "        archive_clean.loc[index,'name'] = np.nan"
   ]
  },
  {
   "cell_type": "code",
   "execution_count": 35,
   "metadata": {},
   "outputs": [
    {
     "data": {
      "text/plain": [
       "None         745\n",
       "NaN           88\n",
       "Charlie       12\n",
       "Oliver        11\n",
       "Lucy          11\n",
       "            ... \n",
       "Jebberson      1\n",
       "Timmy          1\n",
       "Chase          1\n",
       "Poppy          1\n",
       "Pubert         1\n",
       "Name: name, Length: 951, dtype: int64"
      ]
     },
     "execution_count": 35,
     "metadata": {},
     "output_type": "execute_result"
    }
   ],
   "source": [
    "archive_clean.name.value_counts(dropna=False)"
   ]
  },
  {
   "cell_type": "code",
   "execution_count": 36,
   "metadata": {},
   "outputs": [
    {
     "data": {
      "text/plain": [
       "{'Abby',\n",
       " 'Ace',\n",
       " 'Acro',\n",
       " 'Adele',\n",
       " 'Aiden',\n",
       " 'Aja',\n",
       " 'Akumi',\n",
       " 'Al',\n",
       " 'Albert',\n",
       " 'Albus',\n",
       " 'Aldrick',\n",
       " 'Alejandro',\n",
       " 'Alexander',\n",
       " 'Alexanderson',\n",
       " 'Alf',\n",
       " 'Alfie',\n",
       " 'Alfonso',\n",
       " 'Alfredo',\n",
       " 'Alfy',\n",
       " 'Alice',\n",
       " 'Alphred',\n",
       " 'Amber',\n",
       " 'Ambrose',\n",
       " 'Amy',\n",
       " 'Amélie',\n",
       " 'Anakin',\n",
       " 'Andru',\n",
       " 'Andy',\n",
       " 'Angel',\n",
       " 'Anna',\n",
       " 'Anthony',\n",
       " 'Antony',\n",
       " 'Apollo',\n",
       " 'Aqua',\n",
       " 'Archie',\n",
       " 'Arlen',\n",
       " 'Arlo',\n",
       " 'Arnie',\n",
       " 'Arnold',\n",
       " 'Arya',\n",
       " 'Ash',\n",
       " 'Asher',\n",
       " 'Ashleigh',\n",
       " 'Aspen',\n",
       " 'Astrid',\n",
       " 'Atlas',\n",
       " 'Atticus',\n",
       " 'Aubie',\n",
       " 'Augie',\n",
       " 'Autumn',\n",
       " 'Ava',\n",
       " 'Axel',\n",
       " 'Bailey',\n",
       " 'Baloo',\n",
       " 'Balto',\n",
       " 'Banditt',\n",
       " 'Banjo',\n",
       " 'Barclay',\n",
       " 'Barney',\n",
       " 'Baron',\n",
       " 'Barry',\n",
       " 'Batdog',\n",
       " 'Bauer',\n",
       " 'Baxter',\n",
       " 'Bayley',\n",
       " 'BeBe',\n",
       " 'Bear',\n",
       " 'Beau',\n",
       " 'Beckham',\n",
       " 'Beebop',\n",
       " 'Beemo',\n",
       " 'Bell',\n",
       " 'Bella',\n",
       " 'Belle',\n",
       " 'Ben',\n",
       " 'Benedict',\n",
       " 'Benji',\n",
       " 'Benny',\n",
       " 'Bentley',\n",
       " 'Berb',\n",
       " 'Berkeley',\n",
       " 'Bernie',\n",
       " 'Bert',\n",
       " 'Bertan',\n",
       " 'Bertson',\n",
       " 'Betty',\n",
       " 'Beya',\n",
       " 'Biden',\n",
       " 'Bilbo',\n",
       " 'Billl',\n",
       " 'Billy',\n",
       " 'Binky',\n",
       " 'Birf',\n",
       " 'Bisquick',\n",
       " 'Blakely',\n",
       " 'Blanket',\n",
       " 'Blipson',\n",
       " 'Blitz',\n",
       " 'Bloo',\n",
       " 'Bloop',\n",
       " 'Blu',\n",
       " 'Blue',\n",
       " 'Bluebert',\n",
       " 'Bo',\n",
       " 'Bob',\n",
       " 'Bobb',\n",
       " 'Bobbay',\n",
       " 'Bobble',\n",
       " 'Bobby',\n",
       " 'Bode',\n",
       " 'Bodie',\n",
       " 'Bonaparte',\n",
       " 'Bones',\n",
       " 'Bookstore',\n",
       " 'Boomer',\n",
       " 'Boots',\n",
       " 'Boston',\n",
       " 'Bowie',\n",
       " 'Brad',\n",
       " 'Bradlay',\n",
       " 'Bradley',\n",
       " 'Brady',\n",
       " 'Brandi',\n",
       " 'Brandonald',\n",
       " 'Brandy',\n",
       " 'Brat',\n",
       " 'Brian',\n",
       " 'Brockly',\n",
       " 'Brody',\n",
       " 'Bronte',\n",
       " 'Brooks',\n",
       " 'Brownie',\n",
       " 'Bruce',\n",
       " 'Brudge',\n",
       " 'Bruiser',\n",
       " 'Bruno',\n",
       " 'Brutus',\n",
       " 'Bubba',\n",
       " 'Bubbles',\n",
       " 'Buckley',\n",
       " 'Buddah',\n",
       " 'Buddy',\n",
       " 'Bungalo',\n",
       " 'Burt',\n",
       " 'Butter',\n",
       " 'Butters',\n",
       " 'Cal',\n",
       " 'Calbert',\n",
       " 'Cali',\n",
       " 'Callie',\n",
       " 'Calvin',\n",
       " 'Canela',\n",
       " 'Cannon',\n",
       " 'Carbon',\n",
       " 'Carl',\n",
       " 'Carll',\n",
       " 'Carly',\n",
       " 'Carper',\n",
       " 'Carter',\n",
       " 'Caryl',\n",
       " 'Cash',\n",
       " 'Cassie',\n",
       " 'CeCe',\n",
       " 'Cecil',\n",
       " 'Cedrick',\n",
       " 'Cermet',\n",
       " 'Chadrick',\n",
       " 'Champ',\n",
       " 'Charl',\n",
       " 'Charles',\n",
       " 'Charleson',\n",
       " 'Charlie',\n",
       " 'Chase',\n",
       " 'Chaz',\n",
       " 'Cheesy',\n",
       " 'Chef',\n",
       " 'Chelsea',\n",
       " 'Cherokee',\n",
       " 'Cheryl',\n",
       " 'Chesney',\n",
       " 'Chester',\n",
       " 'Chesterson',\n",
       " 'Chet',\n",
       " 'Chevy',\n",
       " 'Chip',\n",
       " 'Chipson',\n",
       " 'Chloe',\n",
       " 'Chompsky',\n",
       " 'Christoper',\n",
       " 'Chubbs',\n",
       " 'Chuck',\n",
       " 'Chuckles',\n",
       " 'Chuk',\n",
       " 'Chuq',\n",
       " 'Churlie',\n",
       " 'Cilantro',\n",
       " 'Clarence',\n",
       " 'Clark',\n",
       " 'Clarkus',\n",
       " 'Clarq',\n",
       " 'Claude',\n",
       " 'Cleopatricia',\n",
       " 'Clifford',\n",
       " 'Clybe',\n",
       " 'Clyde',\n",
       " 'Coco',\n",
       " 'Cody',\n",
       " 'Colby',\n",
       " 'Coleman',\n",
       " 'Colin',\n",
       " 'Combo',\n",
       " 'Comet',\n",
       " 'Cooper',\n",
       " 'Coops',\n",
       " 'Coopson',\n",
       " 'Cora',\n",
       " 'Corey',\n",
       " 'Covach',\n",
       " 'Craig',\n",
       " 'Crawford',\n",
       " 'Creg',\n",
       " 'Crimson',\n",
       " 'Crouton',\n",
       " 'Crumpet',\n",
       " 'Crystal',\n",
       " 'Cuddles',\n",
       " 'Cupcake',\n",
       " 'Cupid',\n",
       " 'Curtis',\n",
       " 'Daisy',\n",
       " 'Dakota',\n",
       " 'Dale',\n",
       " 'Dallas',\n",
       " 'Damon',\n",
       " 'Daniel',\n",
       " 'Danny',\n",
       " 'Dante',\n",
       " 'Darby',\n",
       " 'Darla',\n",
       " 'Darrel',\n",
       " 'Daryl',\n",
       " 'Dash',\n",
       " 'Dave',\n",
       " 'Davey',\n",
       " 'Dawn',\n",
       " 'DayZ',\n",
       " 'Deacon',\n",
       " 'Derby',\n",
       " 'Derek',\n",
       " 'Devón',\n",
       " 'Dewey',\n",
       " 'Dex',\n",
       " 'Dexter',\n",
       " 'Dido',\n",
       " 'Dietrich',\n",
       " 'Diogi',\n",
       " 'Divine',\n",
       " 'Dixie',\n",
       " 'Django',\n",
       " 'Dobby',\n",
       " 'Doc',\n",
       " 'DonDon',\n",
       " 'Donny',\n",
       " 'Doobert',\n",
       " 'Dook',\n",
       " 'Dot',\n",
       " 'Dotsy',\n",
       " 'Doug',\n",
       " 'Duchess',\n",
       " 'Duddles',\n",
       " 'Dudley',\n",
       " 'Dug',\n",
       " 'Duke',\n",
       " 'Dunkin',\n",
       " 'Durg',\n",
       " 'Dutch',\n",
       " 'Dwight',\n",
       " 'Dylan',\n",
       " 'Earl',\n",
       " 'Eazy',\n",
       " 'Ebby',\n",
       " 'Ed',\n",
       " 'Edd',\n",
       " 'Edgar',\n",
       " 'Edmund',\n",
       " 'Eevee',\n",
       " 'Einstein',\n",
       " 'Eleanor',\n",
       " 'Eli',\n",
       " 'Ellie',\n",
       " 'Elliot',\n",
       " 'Emanuel',\n",
       " 'Ember',\n",
       " 'Emma',\n",
       " 'Emmie',\n",
       " 'Emmy',\n",
       " 'Enchilada',\n",
       " 'Erik',\n",
       " 'Eriq',\n",
       " 'Ester',\n",
       " 'Eugene',\n",
       " 'Eve',\n",
       " 'Evy',\n",
       " 'Fabio',\n",
       " 'Farfle',\n",
       " 'Ferg',\n",
       " 'Fido',\n",
       " 'Fiji',\n",
       " 'Fillup',\n",
       " 'Filup',\n",
       " 'Finley',\n",
       " 'Finn',\n",
       " 'Finnegus',\n",
       " 'Fiona',\n",
       " 'Fizz',\n",
       " 'Flash',\n",
       " 'Fletcher',\n",
       " 'Florence',\n",
       " 'Flurpson',\n",
       " 'Flávio',\n",
       " 'Frank',\n",
       " 'Frankie',\n",
       " 'Franklin',\n",
       " 'Franq',\n",
       " 'Fred',\n",
       " 'Freddery',\n",
       " 'Frönq',\n",
       " 'Furzey',\n",
       " 'Fwed',\n",
       " 'Fynn',\n",
       " 'Gabby',\n",
       " 'Gabe',\n",
       " 'Gary',\n",
       " 'General',\n",
       " 'Genevieve',\n",
       " 'Geno',\n",
       " 'Geoff',\n",
       " 'George',\n",
       " 'Georgie',\n",
       " 'Gerald',\n",
       " 'Gerbald',\n",
       " 'Gert',\n",
       " 'Gidget',\n",
       " 'Gilbert',\n",
       " 'Gin',\n",
       " 'Ginger',\n",
       " 'Gizmo',\n",
       " 'Glacier',\n",
       " 'Glenn',\n",
       " 'Godi',\n",
       " 'Godzilla',\n",
       " 'Goliath',\n",
       " 'Goose',\n",
       " 'Gordon',\n",
       " 'Grady',\n",
       " 'Grey',\n",
       " 'Griffin',\n",
       " 'Griswold',\n",
       " 'Grizz',\n",
       " 'Grizzie',\n",
       " 'Grizzwald',\n",
       " 'Gromit',\n",
       " 'Gunner',\n",
       " 'Gus',\n",
       " 'Gustaf',\n",
       " 'Gustav',\n",
       " 'Gòrdón',\n",
       " 'Hall',\n",
       " 'Halo',\n",
       " 'Hammond',\n",
       " 'Hamrick',\n",
       " 'Hank',\n",
       " 'Hanz',\n",
       " 'Happy',\n",
       " 'Harlso',\n",
       " 'Harnold',\n",
       " 'Harold',\n",
       " 'Harper',\n",
       " 'Harrison',\n",
       " 'Harry',\n",
       " 'Harvey',\n",
       " 'Hazel',\n",
       " 'Hector',\n",
       " 'Heinrich',\n",
       " 'Hemry',\n",
       " 'Henry',\n",
       " 'Herald',\n",
       " 'Herb',\n",
       " 'Hercules',\n",
       " 'Herm',\n",
       " 'Hermione',\n",
       " 'Hero',\n",
       " 'Herschel',\n",
       " 'Hobbes',\n",
       " 'Holly',\n",
       " 'Horace',\n",
       " 'Howie',\n",
       " 'Hubertson',\n",
       " 'Huck',\n",
       " 'Humphrey',\n",
       " 'Hunter',\n",
       " 'Hurley',\n",
       " 'Huxley',\n",
       " 'Iggy',\n",
       " 'Ike',\n",
       " 'Indie',\n",
       " 'Iroh',\n",
       " 'Ito',\n",
       " 'Ivar',\n",
       " 'Izzy',\n",
       " 'JD',\n",
       " 'Jack',\n",
       " 'Jackie',\n",
       " 'Jackson',\n",
       " 'Jacob',\n",
       " 'Jameson',\n",
       " 'Jamesy',\n",
       " 'Jangle',\n",
       " 'Jareld',\n",
       " 'Jarod',\n",
       " 'Jarvis',\n",
       " 'Jaspers',\n",
       " 'Jax',\n",
       " 'Jay',\n",
       " 'Jaycob',\n",
       " 'Jazz',\n",
       " 'Jazzy',\n",
       " 'Jeb',\n",
       " 'Jebberson',\n",
       " 'Jed',\n",
       " 'Jeffrey',\n",
       " 'Jeffri',\n",
       " 'Jeffrie',\n",
       " 'Jennifur',\n",
       " 'Jeph',\n",
       " 'Jeremy',\n",
       " 'Jerome',\n",
       " 'Jerry',\n",
       " 'Jersey',\n",
       " 'Jesse',\n",
       " 'Jessifer',\n",
       " 'Jessiga',\n",
       " 'Jett',\n",
       " 'Jim',\n",
       " 'Jimbo',\n",
       " 'Jiminus',\n",
       " 'Jiminy',\n",
       " 'Jimison',\n",
       " 'Jimothy',\n",
       " 'Jo',\n",
       " 'Jockson',\n",
       " 'Joey',\n",
       " 'Johm',\n",
       " 'Jomathan',\n",
       " 'Jonah',\n",
       " 'Jordy',\n",
       " 'Josep',\n",
       " 'Joshwa',\n",
       " 'Juckson',\n",
       " 'Julio',\n",
       " 'Julius',\n",
       " 'Juno',\n",
       " 'Kaia',\n",
       " 'Kaiya',\n",
       " 'Kallie',\n",
       " 'Kane',\n",
       " 'Kanu',\n",
       " 'Kara',\n",
       " 'Karl',\n",
       " 'Karll',\n",
       " 'Karma',\n",
       " 'Kathmandu',\n",
       " 'Katie',\n",
       " 'Kawhi',\n",
       " 'Kayla',\n",
       " 'Keet',\n",
       " 'Keith',\n",
       " 'Kellogg',\n",
       " 'Ken',\n",
       " 'Kendall',\n",
       " 'Kenneth',\n",
       " 'Kenny',\n",
       " 'Kenzie',\n",
       " 'Keurig',\n",
       " 'Kevin',\n",
       " 'Kevon',\n",
       " 'Kial',\n",
       " 'Kilo',\n",
       " 'Kingsley',\n",
       " 'Kip',\n",
       " 'Kirby',\n",
       " 'Kirk',\n",
       " 'Klein',\n",
       " 'Klevin',\n",
       " 'Klint',\n",
       " 'Kloey',\n",
       " 'Kobe',\n",
       " 'Koda',\n",
       " 'Kody',\n",
       " 'Kohl',\n",
       " 'Koko',\n",
       " 'Kollin',\n",
       " 'Kona',\n",
       " 'Kota',\n",
       " 'Kramer',\n",
       " 'Kreg',\n",
       " 'Kreggory',\n",
       " 'Kulet',\n",
       " 'Kuyu',\n",
       " 'Kyle',\n",
       " 'Kyro',\n",
       " 'Lacy',\n",
       " 'Laela',\n",
       " 'Laika',\n",
       " 'Lambeau',\n",
       " 'Lance',\n",
       " 'Larry',\n",
       " 'Lassie',\n",
       " 'Layla',\n",
       " 'Leela',\n",
       " 'Lennon',\n",
       " 'Lenny',\n",
       " 'Lenox',\n",
       " 'Leo',\n",
       " 'Leonard',\n",
       " 'Leonidas',\n",
       " 'Leroi',\n",
       " 'Levi',\n",
       " 'Liam',\n",
       " 'Lilah',\n",
       " 'Lili',\n",
       " 'Lilli',\n",
       " 'Lillie',\n",
       " 'Lilly',\n",
       " 'Lily',\n",
       " 'Lincoln',\n",
       " 'Linda',\n",
       " 'Link',\n",
       " 'Linus',\n",
       " 'Lipton',\n",
       " 'Livvie',\n",
       " 'Lizzie',\n",
       " 'Logan',\n",
       " 'Loki',\n",
       " 'Lola',\n",
       " 'Lolo',\n",
       " 'Longfellow',\n",
       " 'Loomis',\n",
       " 'Lorelei',\n",
       " 'Lorenzo',\n",
       " 'Lou',\n",
       " 'Louie',\n",
       " 'Louis',\n",
       " 'Luca',\n",
       " 'Lucia',\n",
       " 'Lucky',\n",
       " 'Lucy',\n",
       " 'Lugan',\n",
       " 'Lulu',\n",
       " 'Luna',\n",
       " 'Lupe',\n",
       " 'Luther',\n",
       " 'Mabel',\n",
       " 'Mac',\n",
       " 'Mack',\n",
       " 'Maddie',\n",
       " 'Maggie',\n",
       " 'Mairi',\n",
       " 'Maisey',\n",
       " 'Major',\n",
       " 'Maks',\n",
       " 'Malcolm',\n",
       " 'Malikai',\n",
       " 'Margo',\n",
       " 'Mark',\n",
       " 'Marlee',\n",
       " 'Marley',\n",
       " 'Marq',\n",
       " 'Marty',\n",
       " 'Marvin',\n",
       " 'Mary',\n",
       " 'Mason',\n",
       " 'Mattie',\n",
       " 'Maude',\n",
       " 'Mauve',\n",
       " 'Max',\n",
       " 'Maxaroni',\n",
       " 'Maximus',\n",
       " 'Maxwell',\n",
       " 'Maya',\n",
       " 'Meatball',\n",
       " 'Meera',\n",
       " 'Meyer',\n",
       " 'Mia',\n",
       " 'Michelangelope',\n",
       " 'Miguel',\n",
       " 'Mike',\n",
       " 'Miley',\n",
       " 'Milky',\n",
       " 'Millie',\n",
       " 'Milo',\n",
       " 'Mimosa',\n",
       " 'Mingus',\n",
       " 'Mister',\n",
       " 'Misty',\n",
       " 'Mitch',\n",
       " 'Mo',\n",
       " 'Moe',\n",
       " 'Mojo',\n",
       " 'Mollie',\n",
       " 'Molly',\n",
       " 'Mona',\n",
       " 'Monkey',\n",
       " 'Monster',\n",
       " 'Monty',\n",
       " 'Moofasa',\n",
       " 'Mookie',\n",
       " 'Moose',\n",
       " 'Moreton',\n",
       " 'Mosby',\n",
       " 'Murphy',\n",
       " 'Mutt',\n",
       " 'Mya',\n",
       " 'Nala',\n",
       " 'Naphaniel',\n",
       " 'Napolean',\n",
       " 'Nelly',\n",
       " 'Neptune',\n",
       " 'Newt',\n",
       " 'Nico',\n",
       " 'Nida',\n",
       " 'Nigel',\n",
       " 'Nimbus',\n",
       " 'Noah',\n",
       " 'Nollie',\n",
       " 'None',\n",
       " 'Noosh',\n",
       " 'Norman',\n",
       " 'Nugget',\n",
       " 'O',\n",
       " 'Oakley',\n",
       " 'Obi',\n",
       " 'Obie',\n",
       " 'Octaviath',\n",
       " 'Oddie',\n",
       " 'Odie',\n",
       " 'Odin',\n",
       " 'Olaf',\n",
       " 'Ole',\n",
       " 'Olive',\n",
       " 'Oliver',\n",
       " 'Olivia',\n",
       " 'Oliviér',\n",
       " 'Ollie',\n",
       " 'Opal',\n",
       " 'Opie',\n",
       " 'Oreo',\n",
       " 'Orion',\n",
       " 'Oscar',\n",
       " 'Oshie',\n",
       " 'Otis',\n",
       " 'Ozzie',\n",
       " 'Ozzy',\n",
       " 'Pablo',\n",
       " 'Paisley',\n",
       " 'Pancake',\n",
       " 'Panda',\n",
       " 'Patch',\n",
       " 'Patrick',\n",
       " 'Paull',\n",
       " 'Pavlov',\n",
       " 'Pawnd',\n",
       " 'Peaches',\n",
       " 'Peanut',\n",
       " 'Penelope',\n",
       " 'Penny',\n",
       " 'Pepe',\n",
       " 'Pepper',\n",
       " 'Percy',\n",
       " 'Perry',\n",
       " 'Pete',\n",
       " 'Petrick',\n",
       " 'Pherb',\n",
       " 'Phil',\n",
       " 'Philbert',\n",
       " 'Philippe',\n",
       " 'Phineas',\n",
       " 'Phred',\n",
       " 'Pickles',\n",
       " 'Pilot',\n",
       " 'Pinot',\n",
       " 'Pip',\n",
       " 'Piper',\n",
       " 'Pippa',\n",
       " 'Pippin',\n",
       " 'Pipsy',\n",
       " 'Pluto',\n",
       " 'Poppy',\n",
       " 'Pubert',\n",
       " 'Puff',\n",
       " 'Pumpkin',\n",
       " 'Pupcasso',\n",
       " 'Quinn',\n",
       " 'Ralf',\n",
       " 'Ralph',\n",
       " 'Ralpher',\n",
       " 'Ralphie',\n",
       " 'Ralphson',\n",
       " 'Ralphus',\n",
       " 'Ralphy',\n",
       " 'Ralphé',\n",
       " 'Rambo',\n",
       " 'Randall',\n",
       " 'Raphael',\n",
       " 'Rascal',\n",
       " 'Raymond',\n",
       " 'Reagan',\n",
       " 'Reese',\n",
       " 'Reggie',\n",
       " 'Reginald',\n",
       " 'Remington',\n",
       " 'Remus',\n",
       " 'Remy',\n",
       " 'Reptar',\n",
       " 'Rey',\n",
       " 'Rhino',\n",
       " 'Richie',\n",
       " 'Ricky',\n",
       " 'Ridley',\n",
       " 'Riley',\n",
       " 'Rilo',\n",
       " 'Rinna',\n",
       " 'River',\n",
       " 'Rizzo',\n",
       " 'Rizzy',\n",
       " 'Robin',\n",
       " 'Rocco',\n",
       " 'Rocky',\n",
       " 'Rodman',\n",
       " 'Rodney',\n",
       " 'Rolf',\n",
       " 'Romeo',\n",
       " 'Ron',\n",
       " 'Ronduh',\n",
       " 'Ronnie',\n",
       " 'Rontu',\n",
       " 'Rooney',\n",
       " 'Roosevelt',\n",
       " 'Rorie',\n",
       " 'Rory',\n",
       " 'Roscoe',\n",
       " 'Rose',\n",
       " 'Rosie',\n",
       " 'Rover',\n",
       " 'Rubio',\n",
       " 'Ruby',\n",
       " 'Rudy',\n",
       " 'Rueben',\n",
       " 'Ruffles',\n",
       " 'Rufio',\n",
       " 'Rufus',\n",
       " 'Rumble',\n",
       " 'Rumpole',\n",
       " 'Rupert',\n",
       " 'Rusty',\n",
       " 'Sadie',\n",
       " 'Sage',\n",
       " 'Sailer',\n",
       " 'Sailor',\n",
       " 'Sam',\n",
       " 'Sammy',\n",
       " 'Sampson',\n",
       " 'Samsom',\n",
       " 'Samson',\n",
       " 'Sandra',\n",
       " 'Sandy',\n",
       " 'Sansa',\n",
       " 'Sarge',\n",
       " 'Saydee',\n",
       " 'Schnitzel',\n",
       " 'Schnozz',\n",
       " 'Scooter',\n",
       " 'Scott',\n",
       " 'Scout',\n",
       " 'Scruffers',\n",
       " 'Seamus',\n",
       " 'Sebastian',\n",
       " 'Sephie',\n",
       " 'Severus',\n",
       " 'Shadoe',\n",
       " 'Shadow',\n",
       " 'Shaggy',\n",
       " 'Shakespeare',\n",
       " 'Shawwn',\n",
       " 'Shelby',\n",
       " 'Shikha',\n",
       " 'Shiloh',\n",
       " 'Shnuggles',\n",
       " 'Shooter',\n",
       " 'Siba',\n",
       " 'Sid',\n",
       " 'Sierra',\n",
       " 'Simba',\n",
       " 'Skittle',\n",
       " 'Skittles',\n",
       " 'Sky',\n",
       " 'Skye',\n",
       " 'Smiley',\n",
       " 'Smokey',\n",
       " 'Snickers',\n",
       " 'Snicku',\n",
       " 'Snoop',\n",
       " 'Snoopy',\n",
       " 'Sobe',\n",
       " 'Socks',\n",
       " 'Sojourner',\n",
       " 'Solomon',\n",
       " 'Sonny',\n",
       " 'Sophie',\n",
       " 'Sora',\n",
       " 'Spanky',\n",
       " 'Spark',\n",
       " 'Sparky',\n",
       " 'Spencer',\n",
       " 'Spork',\n",
       " 'Sprinkles',\n",
       " 'Sprout',\n",
       " 'Staniel',\n",
       " 'Stanley',\n",
       " 'Stark',\n",
       " 'Stefan',\n",
       " 'Stella',\n",
       " 'Stephan',\n",
       " 'Stephanus',\n",
       " 'Steve',\n",
       " 'Steven',\n",
       " 'Stewie',\n",
       " 'Storkson',\n",
       " 'Stormy',\n",
       " 'Strider',\n",
       " 'Striker',\n",
       " 'Strudel',\n",
       " 'Stu',\n",
       " 'Stuart',\n",
       " 'Stubert',\n",
       " 'Sugar',\n",
       " 'Suki',\n",
       " 'Sully',\n",
       " 'Sundance',\n",
       " 'Sunny',\n",
       " 'Sunshine',\n",
       " 'Superpup',\n",
       " 'Swagger',\n",
       " 'Sweet',\n",
       " 'Sweets',\n",
       " 'Taco',\n",
       " 'Tango',\n",
       " 'Tanner',\n",
       " 'Tassy',\n",
       " 'Tater',\n",
       " 'Tayzie',\n",
       " 'Taz',\n",
       " 'Tebow',\n",
       " 'Ted',\n",
       " 'Tedders',\n",
       " 'Teddy',\n",
       " 'Tedrick',\n",
       " 'Terrance',\n",
       " 'Terrenth',\n",
       " 'Terry',\n",
       " 'Tess',\n",
       " 'Tessa',\n",
       " 'Theo',\n",
       " 'Theodore',\n",
       " 'Thor',\n",
       " 'Thumas',\n",
       " 'Tiger',\n",
       " 'Tilly',\n",
       " 'Timber',\n",
       " 'Timison',\n",
       " 'Timmy',\n",
       " 'Timofy',\n",
       " 'Tino',\n",
       " 'Titan',\n",
       " 'Tito',\n",
       " 'Tobi',\n",
       " 'Toby',\n",
       " 'Todo',\n",
       " 'Toffee',\n",
       " 'Tom',\n",
       " 'Tommy',\n",
       " 'Tonks',\n",
       " 'Torque',\n",
       " 'Tove',\n",
       " 'Travis',\n",
       " 'Traviss',\n",
       " 'Trevith',\n",
       " 'Trigger',\n",
       " 'Trip',\n",
       " 'Tripp',\n",
       " 'Trooper',\n",
       " 'Tuck',\n",
       " 'Tucker',\n",
       " 'Tuco',\n",
       " 'Tug',\n",
       " 'Tupawc',\n",
       " 'Tycho',\n",
       " 'Tyr',\n",
       " 'Tyrone',\n",
       " 'Tyrus',\n",
       " 'Ulysses',\n",
       " 'Venti',\n",
       " 'Vince',\n",
       " 'Vincent',\n",
       " 'Vinnie',\n",
       " 'Vinscent',\n",
       " 'Vixen',\n",
       " 'Wafer',\n",
       " 'Waffles',\n",
       " 'Walker',\n",
       " 'Wallace',\n",
       " 'Wally',\n",
       " 'Walter',\n",
       " 'Watson',\n",
       " 'Wesley',\n",
       " 'Wiggles',\n",
       " 'Willem',\n",
       " 'William',\n",
       " 'Willie',\n",
       " 'Willow',\n",
       " 'Willy',\n",
       " 'Wilson',\n",
       " 'Winifred',\n",
       " 'Winnie',\n",
       " 'Winston',\n",
       " 'Wishes',\n",
       " 'Wyatt',\n",
       " 'Wylie',\n",
       " 'Yoda',\n",
       " 'Yogi',\n",
       " 'Yukon',\n",
       " 'Zara',\n",
       " 'Zeek',\n",
       " 'Zeke',\n",
       " 'Zeus',\n",
       " 'Ziva',\n",
       " 'Zoe',\n",
       " 'Zoey',\n",
       " 'Zooey',\n",
       " 'Zuzu',\n",
       " nan}"
      ]
     },
     "execution_count": 36,
     "metadata": {},
     "output_type": "execute_result"
    }
   ],
   "source": [
    "namesss = set(list(archive_clean.name.unique()))\n",
    "namesss"
   ]
  },
  {
   "cell_type": "markdown",
   "metadata": {},
   "source": [
    "### Quality"
   ]
  },
  {
   "cell_type": "markdown",
   "metadata": {},
   "source": [
    "#### 2. tweet_id wrong data type"
   ]
  },
  {
   "cell_type": "markdown",
   "metadata": {},
   "source": [
    "##### Define\n",
    "Converting tweet_id to string in the three tables using astype"
   ]
  },
  {
   "cell_type": "code",
   "execution_count": 37,
   "metadata": {},
   "outputs": [],
   "source": [
    "archive_clean.tweet_id = archive_clean.tweet_id.astype('str')\n",
    "image_predictions_clean.tweet_id = image_predictions_clean.tweet_id.astype('str')\n",
    "api_clean.tweet_id = api_clean.tweet_id.astype('str')"
   ]
  },
  {
   "cell_type": "code",
   "execution_count": 38,
   "metadata": {},
   "outputs": [
    {
     "name": "stdout",
     "output_type": "stream",
     "text": [
      "<class 'pandas.core.frame.DataFrame'>\n",
      "RangeIndex: 2331 entries, 0 to 2330\n",
      "Data columns (total 4 columns):\n",
      " #   Column                Non-Null Count  Dtype \n",
      "---  ------                --------------  ----- \n",
      " 0   tweet_id              2331 non-null   object\n",
      " 1   retweet_count         2331 non-null   int64 \n",
      " 2   favorite_count        2331 non-null   int64 \n",
      " 3   user_followers_count  2331 non-null   int64 \n",
      "dtypes: int64(3), object(1)\n",
      "memory usage: 73.0+ KB\n"
     ]
    }
   ],
   "source": [
    "api_clean.info()"
   ]
  },
  {
   "cell_type": "markdown",
   "metadata": {},
   "source": [
    "#### 3. Inconsistent datatypes (timestamp, retweeted_status_timestamp)"
   ]
  },
  {
   "cell_type": "markdown",
   "metadata": {},
   "source": [
    "##### Define\n",
    "archive: Convert datatypes of 'timestamp' & 'retweeted_status_timestamp' to date using to_datetime."
   ]
  },
  {
   "cell_type": "code",
   "execution_count": 39,
   "metadata": {},
   "outputs": [],
   "source": [
    "archive_clean.timestamp = pd.to_datetime(archive_clean.timestamp)\n",
    "archive_clean.retweeted_status_timestamp = pd.to_datetime(archive_clean.retweeted_status_timestamp)"
   ]
  },
  {
   "cell_type": "code",
   "execution_count": 40,
   "metadata": {},
   "outputs": [
    {
     "name": "stdout",
     "output_type": "stream",
     "text": [
      "<class 'pandas.core.frame.DataFrame'>\n",
      "RangeIndex: 2356 entries, 0 to 2355\n",
      "Data columns (total 17 columns):\n",
      " #   Column                      Non-Null Count  Dtype              \n",
      "---  ------                      --------------  -----              \n",
      " 0   tweet_id                    2356 non-null   object             \n",
      " 1   in_reply_to_status_id       78 non-null     float64            \n",
      " 2   in_reply_to_user_id         78 non-null     float64            \n",
      " 3   timestamp                   2356 non-null   datetime64[ns, UTC]\n",
      " 4   source                      2356 non-null   object             \n",
      " 5   text                        2356 non-null   object             \n",
      " 6   retweeted_status_id         181 non-null    float64            \n",
      " 7   retweeted_status_user_id    181 non-null    float64            \n",
      " 8   retweeted_status_timestamp  181 non-null    datetime64[ns, UTC]\n",
      " 9   expanded_urls               2297 non-null   object             \n",
      " 10  rating_numerator            2356 non-null   int64              \n",
      " 11  rating_denominator          2356 non-null   int64              \n",
      " 12  name                        2268 non-null   object             \n",
      " 13  doggo                       2356 non-null   object             \n",
      " 14  floofer                     2356 non-null   object             \n",
      " 15  pupper                      2356 non-null   object             \n",
      " 16  puppo                       2356 non-null   object             \n",
      "dtypes: datetime64[ns, UTC](2), float64(4), int64(2), object(9)\n",
      "memory usage: 313.0+ KB\n"
     ]
    }
   ],
   "source": [
    "archive_clean.info()"
   ]
  },
  {
   "cell_type": "markdown",
   "metadata": {},
   "source": [
    "#### 4. Tweets without photos exist"
   ]
  },
  {
   "cell_type": "markdown",
   "metadata": {},
   "source": [
    "##### Define\n",
    "Use the image_predictions table to guide the selection and removal of tweets without photos in the archive table"
   ]
  },
  {
   "cell_type": "code",
   "execution_count": 41,
   "metadata": {},
   "outputs": [],
   "source": [
    "tweets_with_image = list(image_predictions_clean.tweet_id.unique())\n",
    "\n",
    "len(tweets_with_image) == archive_clean.tweet_id.isin(tweets_with_image).sum()\n",
    "\n",
    "archive_clean = archive_clean[archive_clean.tweet_id.isin(tweets_with_image)]"
   ]
  },
  {
   "cell_type": "code",
   "execution_count": 42,
   "metadata": {},
   "outputs": [
    {
     "name": "stdout",
     "output_type": "stream",
     "text": [
      "<class 'pandas.core.frame.DataFrame'>\n",
      "Int64Index: 2075 entries, 0 to 2355\n",
      "Data columns (total 17 columns):\n",
      " #   Column                      Non-Null Count  Dtype              \n",
      "---  ------                      --------------  -----              \n",
      " 0   tweet_id                    2075 non-null   object             \n",
      " 1   in_reply_to_status_id       23 non-null     float64            \n",
      " 2   in_reply_to_user_id         23 non-null     float64            \n",
      " 3   timestamp                   2075 non-null   datetime64[ns, UTC]\n",
      " 4   source                      2075 non-null   object             \n",
      " 5   text                        2075 non-null   object             \n",
      " 6   retweeted_status_id         81 non-null     float64            \n",
      " 7   retweeted_status_user_id    81 non-null     float64            \n",
      " 8   retweeted_status_timestamp  81 non-null     datetime64[ns, UTC]\n",
      " 9   expanded_urls               2075 non-null   object             \n",
      " 10  rating_numerator            2075 non-null   int64              \n",
      " 11  rating_denominator          2075 non-null   int64              \n",
      " 12  name                        1996 non-null   object             \n",
      " 13  doggo                       2075 non-null   object             \n",
      " 14  floofer                     2075 non-null   object             \n",
      " 15  pupper                      2075 non-null   object             \n",
      " 16  puppo                       2075 non-null   object             \n",
      "dtypes: datetime64[ns, UTC](2), float64(4), int64(2), object(9)\n",
      "memory usage: 291.8+ KB\n"
     ]
    }
   ],
   "source": [
    "archive_clean.info()"
   ]
  },
  {
   "cell_type": "markdown",
   "metadata": {},
   "source": [
    "#### 5. Retweets & replies exist"
   ]
  },
  {
   "cell_type": "markdown",
   "metadata": {},
   "source": [
    "##### Define\n",
    "Using the following columns (in_reply_to_status_id, in_reply_to_user_id, 'retweeted_status_id', 'retweeted_status_user_id', 'retweeted_status_timestamp'), we will shed the retweets and replies from our datasets and then will drop them."
   ]
  },
  {
   "cell_type": "code",
   "execution_count": 43,
   "metadata": {},
   "outputs": [],
   "source": [
    "retweet_entries = archive_clean.retweeted_status_id.notnull()\n",
    "archive_clean[retweet_entries].shape[0]\n",
    "archive_clean = archive_clean[~retweet_entries]\n",
    "# Delete same rows from image_predictions_clean too\n",
    "retweets = np.logical_not(image_predictions_clean.tweet_id.isin(list(archive_clean.tweet_id)))\n",
    "image_predictions_clean = image_predictions_clean[~retweets]"
   ]
  },
  {
   "cell_type": "code",
   "execution_count": 44,
   "metadata": {},
   "outputs": [
    {
     "name": "stdout",
     "output_type": "stream",
     "text": [
      "<class 'pandas.core.frame.DataFrame'>\n",
      "Int64Index: 1994 entries, 0 to 2355\n",
      "Data columns (total 17 columns):\n",
      " #   Column                      Non-Null Count  Dtype              \n",
      "---  ------                      --------------  -----              \n",
      " 0   tweet_id                    1994 non-null   object             \n",
      " 1   in_reply_to_status_id       23 non-null     float64            \n",
      " 2   in_reply_to_user_id         23 non-null     float64            \n",
      " 3   timestamp                   1994 non-null   datetime64[ns, UTC]\n",
      " 4   source                      1994 non-null   object             \n",
      " 5   text                        1994 non-null   object             \n",
      " 6   retweeted_status_id         0 non-null      float64            \n",
      " 7   retweeted_status_user_id    0 non-null      float64            \n",
      " 8   retweeted_status_timestamp  0 non-null      datetime64[ns, UTC]\n",
      " 9   expanded_urls               1994 non-null   object             \n",
      " 10  rating_numerator            1994 non-null   int64              \n",
      " 11  rating_denominator          1994 non-null   int64              \n",
      " 12  name                        1917 non-null   object             \n",
      " 13  doggo                       1994 non-null   object             \n",
      " 14  floofer                     1994 non-null   object             \n",
      " 15  pupper                      1994 non-null   object             \n",
      " 16  puppo                       1994 non-null   object             \n",
      "dtypes: datetime64[ns, UTC](2), float64(4), int64(2), object(9)\n",
      "memory usage: 280.4+ KB\n"
     ]
    }
   ],
   "source": [
    "archive_clean.info()"
   ]
  },
  {
   "cell_type": "code",
   "execution_count": 45,
   "metadata": {
    "scrolled": true
   },
   "outputs": [],
   "source": [
    "reply_entries = archive_clean.in_reply_to_status_id.notnull()\n",
    "archive_clean = archive_clean[~reply_entries]\n",
    "# Delete same rows from image_predictions_clean too\n",
    "replies = np.logical_not(image_predictions_clean.tweet_id.isin(list(archive_clean.tweet_id)))\n",
    "image_predictions_clean = image_predictions_clean[~replies]"
   ]
  },
  {
   "cell_type": "code",
   "execution_count": 46,
   "metadata": {},
   "outputs": [
    {
     "name": "stdout",
     "output_type": "stream",
     "text": [
      "<class 'pandas.core.frame.DataFrame'>\n",
      "Int64Index: 1971 entries, 0 to 2074\n",
      "Data columns (total 12 columns):\n",
      " #   Column    Non-Null Count  Dtype  \n",
      "---  ------    --------------  -----  \n",
      " 0   tweet_id  1971 non-null   object \n",
      " 1   jpg_url   1971 non-null   object \n",
      " 2   img_num   1971 non-null   int64  \n",
      " 3   p1        1971 non-null   object \n",
      " 4   p1_conf   1971 non-null   float64\n",
      " 5   p1_dog    1971 non-null   bool   \n",
      " 6   p2        1971 non-null   object \n",
      " 7   p2_conf   1971 non-null   float64\n",
      " 8   p2_dog    1971 non-null   bool   \n",
      " 9   p3        1971 non-null   object \n",
      " 10  p3_conf   1971 non-null   float64\n",
      " 11  p3_dog    1971 non-null   bool   \n",
      "dtypes: bool(3), float64(3), int64(1), object(5)\n",
      "memory usage: 159.8+ KB\n"
     ]
    }
   ],
   "source": [
    "image_predictions_clean.info()"
   ]
  },
  {
   "cell_type": "code",
   "execution_count": 47,
   "metadata": {
    "scrolled": true
   },
   "outputs": [
    {
     "name": "stdout",
     "output_type": "stream",
     "text": [
      "<class 'pandas.core.frame.DataFrame'>\n",
      "Int64Index: 1971 entries, 0 to 2355\n",
      "Data columns (total 17 columns):\n",
      " #   Column                      Non-Null Count  Dtype              \n",
      "---  ------                      --------------  -----              \n",
      " 0   tweet_id                    1971 non-null   object             \n",
      " 1   in_reply_to_status_id       0 non-null      float64            \n",
      " 2   in_reply_to_user_id         0 non-null      float64            \n",
      " 3   timestamp                   1971 non-null   datetime64[ns, UTC]\n",
      " 4   source                      1971 non-null   object             \n",
      " 5   text                        1971 non-null   object             \n",
      " 6   retweeted_status_id         0 non-null      float64            \n",
      " 7   retweeted_status_user_id    0 non-null      float64            \n",
      " 8   retweeted_status_timestamp  0 non-null      datetime64[ns, UTC]\n",
      " 9   expanded_urls               1971 non-null   object             \n",
      " 10  rating_numerator            1971 non-null   int64              \n",
      " 11  rating_denominator          1971 non-null   int64              \n",
      " 12  name                        1894 non-null   object             \n",
      " 13  doggo                       1971 non-null   object             \n",
      " 14  floofer                     1971 non-null   object             \n",
      " 15  pupper                      1971 non-null   object             \n",
      " 16  puppo                       1971 non-null   object             \n",
      "dtypes: datetime64[ns, UTC](2), float64(4), int64(2), object(9)\n",
      "memory usage: 277.2+ KB\n"
     ]
    }
   ],
   "source": [
    "archive_clean.info()"
   ]
  },
  {
   "cell_type": "markdown",
   "metadata": {},
   "source": [
    "#### 6. Unuseful data (in_reply_to_status_id, in_reply_to_user_id, retweeted_status_id, retweeted_status_user_id, retweeted_status_timestamp, expanded_urls)"
   ]
  },
  {
   "cell_type": "markdown",
   "metadata": {},
   "source": [
    "##### Define\n",
    "Drop all unuseful data from archive table"
   ]
  },
  {
   "cell_type": "code",
   "execution_count": 48,
   "metadata": {},
   "outputs": [
    {
     "name": "stdout",
     "output_type": "stream",
     "text": [
      "<class 'pandas.core.frame.DataFrame'>\n",
      "Int64Index: 1971 entries, 0 to 2355\n",
      "Data columns (total 12 columns):\n",
      " #   Column              Non-Null Count  Dtype              \n",
      "---  ------              --------------  -----              \n",
      " 0   tweet_id            1971 non-null   object             \n",
      " 1   timestamp           1971 non-null   datetime64[ns, UTC]\n",
      " 2   source              1971 non-null   object             \n",
      " 3   text                1971 non-null   object             \n",
      " 4   expanded_urls       1971 non-null   object             \n",
      " 5   rating_numerator    1971 non-null   int64              \n",
      " 6   rating_denominator  1971 non-null   int64              \n",
      " 7   name                1894 non-null   object             \n",
      " 8   doggo               1971 non-null   object             \n",
      " 9   floofer             1971 non-null   object             \n",
      " 10  pupper              1971 non-null   object             \n",
      " 11  puppo               1971 non-null   object             \n",
      "dtypes: datetime64[ns, UTC](1), int64(2), object(9)\n",
      "memory usage: 200.2+ KB\n"
     ]
    }
   ],
   "source": [
    "archive_clean.drop(columns=['in_reply_to_status_id', 'in_reply_to_user_id', 'retweeted_status_id',\n",
    "                            'retweeted_status_user_id', 'retweeted_status_timestamp'], inplace=True)\n",
    "archive_clean.info()"
   ]
  },
  {
   "cell_type": "markdown",
   "metadata": {},
   "source": [
    "#### 7. None values in dog stage columns"
   ]
  },
  {
   "cell_type": "markdown",
   "metadata": {},
   "source": [
    "##### Define\n",
    "Replace the “None” string with empty string \"\""
   ]
  },
  {
   "cell_type": "code",
   "execution_count": 49,
   "metadata": {},
   "outputs": [],
   "source": [
    "archive_clean.doggo = archive_clean.doggo.replace('None', '')\n",
    "archive_clean.floofer = archive_clean.floofer.replace('None', '')\n",
    "archive_clean.pupper = archive_clean.pupper.replace('None', '')\n",
    "archive_clean.puppo = archive_clean.puppo.replace('None', '')"
   ]
  },
  {
   "cell_type": "code",
   "execution_count": 50,
   "metadata": {},
   "outputs": [
    {
     "data": {
      "text/html": [
       "<div>\n",
       "<style scoped>\n",
       "    .dataframe tbody tr th:only-of-type {\n",
       "        vertical-align: middle;\n",
       "    }\n",
       "\n",
       "    .dataframe tbody tr th {\n",
       "        vertical-align: top;\n",
       "    }\n",
       "\n",
       "    .dataframe thead th {\n",
       "        text-align: right;\n",
       "    }\n",
       "</style>\n",
       "<table border=\"1\" class=\"dataframe\">\n",
       "  <thead>\n",
       "    <tr style=\"text-align: right;\">\n",
       "      <th></th>\n",
       "      <th>doggo</th>\n",
       "      <th>floofer</th>\n",
       "      <th>pupper</th>\n",
       "      <th>puppo</th>\n",
       "    </tr>\n",
       "  </thead>\n",
       "  <tbody>\n",
       "    <tr>\n",
       "      <th>1283</th>\n",
       "      <td></td>\n",
       "      <td></td>\n",
       "      <td></td>\n",
       "      <td></td>\n",
       "    </tr>\n",
       "    <tr>\n",
       "      <th>2146</th>\n",
       "      <td></td>\n",
       "      <td></td>\n",
       "      <td></td>\n",
       "      <td></td>\n",
       "    </tr>\n",
       "    <tr>\n",
       "      <th>1800</th>\n",
       "      <td></td>\n",
       "      <td></td>\n",
       "      <td></td>\n",
       "      <td></td>\n",
       "    </tr>\n",
       "    <tr>\n",
       "      <th>2291</th>\n",
       "      <td></td>\n",
       "      <td></td>\n",
       "      <td></td>\n",
       "      <td></td>\n",
       "    </tr>\n",
       "    <tr>\n",
       "      <th>2192</th>\n",
       "      <td></td>\n",
       "      <td></td>\n",
       "      <td></td>\n",
       "      <td></td>\n",
       "    </tr>\n",
       "  </tbody>\n",
       "</table>\n",
       "</div>"
      ],
      "text/plain": [
       "     doggo floofer pupper puppo\n",
       "1283                           \n",
       "2146                           \n",
       "1800                           \n",
       "2291                           \n",
       "2192                           "
      ]
     },
     "execution_count": 50,
     "metadata": {},
     "output_type": "execute_result"
    }
   ],
   "source": [
    "archive_clean.loc[:,['doggo', 'floofer', 'pupper', 'puppo']].sample(5)"
   ]
  },
  {
   "cell_type": "markdown",
   "metadata": {},
   "source": [
    "#### 8. Undescriptive columns' headers for image_predictions"
   ]
  },
  {
   "cell_type": "markdown",
   "metadata": {},
   "source": [
    "##### Define\n",
    "Convert columns names into a more descriptive names."
   ]
  },
  {
   "cell_type": "code",
   "execution_count": 51,
   "metadata": {},
   "outputs": [],
   "source": [
    "cols = ['tweet_id', 'jpg_url', 'img_num', \n",
    "       'prediction_1', 'confidence_1', 'breed_1',\n",
    "       'prediction_2', 'confidence_2', 'breed_2',\n",
    "       'prediction_3', 'confidence_3', 'breed_3']\n",
    "image_predictions_clean.columns = cols"
   ]
  },
  {
   "cell_type": "code",
   "execution_count": 52,
   "metadata": {
    "scrolled": false
   },
   "outputs": [
    {
     "data": {
      "text/plain": [
       "Index(['tweet_id', 'jpg_url', 'img_num', 'prediction_1', 'confidence_1',\n",
       "       'breed_1', 'prediction_2', 'confidence_2', 'breed_2', 'prediction_3',\n",
       "       'confidence_3', 'breed_3'],\n",
       "      dtype='object')"
      ]
     },
     "execution_count": 52,
     "metadata": {},
     "output_type": "execute_result"
    }
   ],
   "source": [
    "image_predictions_clean.columns"
   ]
  },
  {
   "cell_type": "markdown",
   "metadata": {},
   "source": [
    "###  Tidiness"
   ]
  },
  {
   "cell_type": "markdown",
   "metadata": {},
   "source": [
    "#### 1. Dog stage are values represented as column names in archive table"
   ]
  },
  {
   "cell_type": "markdown",
   "metadata": {},
   "source": [
    "##### Define\n",
    "doggo, floofer, pupper, puppo columns in twitter_archive_enhanced.csv should be combined into a single column as this is one variable that identify stage of dog."
   ]
  },
  {
   "cell_type": "code",
   "execution_count": 53,
   "metadata": {},
   "outputs": [
    {
     "data": {
      "text/plain": [
       "Index(['tweet_id', 'timestamp', 'source', 'text', 'expanded_urls',\n",
       "       'rating_numerator', 'rating_denominator', 'name', 'doggo', 'floofer',\n",
       "       'pupper', 'puppo'],\n",
       "      dtype='object')"
      ]
     },
     "execution_count": 53,
     "metadata": {},
     "output_type": "execute_result"
    }
   ],
   "source": [
    "archive_clean.columns"
   ]
  },
  {
   "cell_type": "code",
   "execution_count": 54,
   "metadata": {},
   "outputs": [],
   "source": [
    "archive_clean['dog_breed'] = (archive_clean.doggo + archive_clean.floofer + archive_clean.pupper + archive_clean.puppo).str.strip()"
   ]
  },
  {
   "cell_type": "code",
   "execution_count": 55,
   "metadata": {},
   "outputs": [
    {
     "data": {
      "text/plain": [
       "array(['', 'doggo', 'puppo', 'pupper', 'floofer', 'doggopuppo',\n",
       "       'doggofloofer', 'doggopupper'], dtype=object)"
      ]
     },
     "execution_count": 55,
     "metadata": {},
     "output_type": "execute_result"
    }
   ],
   "source": [
    "archive_clean.dog_breed.unique()"
   ]
  },
  {
   "cell_type": "code",
   "execution_count": 56,
   "metadata": {},
   "outputs": [],
   "source": [
    "for index, row in archive_clean.iterrows():\n",
    "    if row['dog_breed'] == '':\n",
    "        archive_clean.loc[index,'dog_breed'] = np.nan\n",
    "    elif row['dog_breed'] == 'doggopuppo':\n",
    "        archive_clean.loc[index,'dog_breed'] = 'doggo-puppo'\n",
    "    elif row['dog_breed'] == 'doggofloofer':\n",
    "        archive_clean.loc[index,'dog_breed'] = 'doggo-floofer'\n",
    "    elif row['dog_breed'] == 'doggopupper':\n",
    "        archive_clean.loc[index,'dog_breed'] = 'doggo-pupper'"
   ]
  },
  {
   "cell_type": "code",
   "execution_count": 57,
   "metadata": {
    "scrolled": true
   },
   "outputs": [
    {
     "data": {
      "text/plain": [
       "NaN              1668\n",
       "pupper            201\n",
       "doggo              63\n",
       "puppo              22\n",
       "doggo-pupper        8\n",
       "floofer             7\n",
       "doggo-floofer       1\n",
       "doggo-puppo         1\n",
       "Name: dog_breed, dtype: int64"
      ]
     },
     "execution_count": 57,
     "metadata": {},
     "output_type": "execute_result"
    }
   ],
   "source": [
    "archive_clean.dog_breed.value_counts(dropna=False)"
   ]
  },
  {
   "cell_type": "code",
   "execution_count": 58,
   "metadata": {},
   "outputs": [],
   "source": [
    "archive_clean.drop(columns=['doggo', 'floofer', 'puppo', 'pupper'], inplace=True)"
   ]
  },
  {
   "cell_type": "markdown",
   "metadata": {},
   "source": [
    "#### 2. Information about one type of observational unit (tweets) is spread across three different files/dataframes"
   ]
  },
  {
   "cell_type": "markdown",
   "metadata": {},
   "source": [
    "##### Define\n",
    "Using pd.merge function we will put all tables into one master table as they are part of the same observational unit."
   ]
  },
  {
   "cell_type": "code",
   "execution_count": 59,
   "metadata": {},
   "outputs": [
    {
     "data": {
      "text/plain": [
       "((1971, 9), (2331, 4), (1971, 12))"
      ]
     },
     "execution_count": 59,
     "metadata": {},
     "output_type": "execute_result"
    }
   ],
   "source": [
    "archive_clean.shape, api_clean.shape, image_predictions_clean.shape"
   ]
  },
  {
   "cell_type": "code",
   "execution_count": 60,
   "metadata": {},
   "outputs": [],
   "source": [
    "df_temp = pd.merge(archive_clean, api_clean, on='tweet_id', how='left')"
   ]
  },
  {
   "cell_type": "code",
   "execution_count": 61,
   "metadata": {},
   "outputs": [
    {
     "data": {
      "text/plain": [
       "(1971, 12)"
      ]
     },
     "execution_count": 61,
     "metadata": {},
     "output_type": "execute_result"
    }
   ],
   "source": [
    "df_temp.shape"
   ]
  },
  {
   "cell_type": "code",
   "execution_count": 62,
   "metadata": {},
   "outputs": [],
   "source": [
    "df = pd.merge(df_temp, image_predictions_clean, on='tweet_id', how='left')"
   ]
  },
  {
   "cell_type": "code",
   "execution_count": 63,
   "metadata": {
    "scrolled": true
   },
   "outputs": [
    {
     "data": {
      "text/plain": [
       "(1971, 23)"
      ]
     },
     "execution_count": 63,
     "metadata": {},
     "output_type": "execute_result"
    }
   ],
   "source": [
    "df.shape"
   ]
  },
  {
   "cell_type": "markdown",
   "metadata": {},
   "source": [
    "***\n",
    "***\n",
    "## Storing Data to csv file"
   ]
  },
  {
   "cell_type": "markdown",
   "metadata": {},
   "source": [
    "##### Define\n",
    "Using to_csv function we will store our final data to a csv file"
   ]
  },
  {
   "cell_type": "code",
   "execution_count": 64,
   "metadata": {},
   "outputs": [],
   "source": [
    "df.to_csv('twitter_archive_master.csv', index=False)"
   ]
  },
  {
   "cell_type": "markdown",
   "metadata": {},
   "source": [
    "***\n",
    "***\n",
    "## Analyzing Data"
   ]
  },
  {
   "cell_type": "code",
   "execution_count": 65,
   "metadata": {},
   "outputs": [
    {
     "data": {
      "text/plain": [
       "Index(['tweet_id', 'timestamp', 'source', 'text', 'expanded_urls',\n",
       "       'rating_numerator', 'rating_denominator', 'name', 'dog_breed',\n",
       "       'retweet_count', 'favorite_count', 'user_followers_count', 'jpg_url',\n",
       "       'img_num', 'prediction_1', 'confidence_1', 'breed_1', 'prediction_2',\n",
       "       'confidence_2', 'breed_2', 'prediction_3', 'confidence_3', 'breed_3'],\n",
       "      dtype='object')"
      ]
     },
     "execution_count": 65,
     "metadata": {},
     "output_type": "execute_result"
    }
   ],
   "source": [
    "df.columns"
   ]
  },
  {
   "cell_type": "code",
   "execution_count": 66,
   "metadata": {},
   "outputs": [
    {
     "data": {
      "text/plain": [
       "count     1964.000000\n",
       "mean      2394.644094\n",
       "std       4279.753264\n",
       "min         11.000000\n",
       "25%        533.750000\n",
       "50%       1160.000000\n",
       "75%       2732.000000\n",
       "max      75270.000000\n",
       "Name: retweet_count, dtype: float64"
      ]
     },
     "execution_count": 66,
     "metadata": {},
     "output_type": "execute_result"
    }
   ],
   "source": [
    "df.retweet_count.describe()"
   ]
  },
  {
   "cell_type": "code",
   "execution_count": 67,
   "metadata": {},
   "outputs": [
    {
     "data": {
      "text/plain": [
       "[\"Here's a doggo realizing you can stand in a pool. 13/10 enlightened af (vid by Tina Conrad) https://t.co/7wE9LTEXC4\"]"
      ]
     },
     "execution_count": 67,
     "metadata": {},
     "output_type": "execute_result"
    }
   ],
   "source": [
    "list(df[df.retweet_count == df.retweet_count.max()].text)"
   ]
  },
  {
   "cell_type": "code",
   "execution_count": 68,
   "metadata": {},
   "outputs": [
    {
     "data": {
      "text/plain": [
       "['https://pbs.twimg.com/ext_tw_video_thumb/744234667679821824/pu/img/1GaWmtJtdqzZV7jy.jpg']"
      ]
     },
     "execution_count": 68,
     "metadata": {},
     "output_type": "execute_result"
    }
   ],
   "source": [
    "list(df[df.retweet_count == df.retweet_count.max()].jpg_url)"
   ]
  },
  {
   "cell_type": "code",
   "execution_count": 69,
   "metadata": {},
   "outputs": [
    {
     "data": {
      "text/plain": [
       "['Oh my. Here you are seeing an Adobe Setter giving birth to twins!!! The world is an amazing place. 11/10 https://t.co/11LvqN4WLq']"
      ]
     },
     "execution_count": 69,
     "metadata": {},
     "output_type": "execute_result"
    }
   ],
   "source": [
    "list(df[df.retweet_count == df.retweet_count.min()].text)"
   ]
  },
  {
   "cell_type": "code",
   "execution_count": 70,
   "metadata": {},
   "outputs": [
    {
     "data": {
      "text/plain": [
       "['https://pbs.twimg.com/media/CT54YGiWUAEZnoK.jpg']"
      ]
     },
     "execution_count": 70,
     "metadata": {},
     "output_type": "execute_result"
    }
   ],
   "source": [
    "list(df[df.retweet_count == df.retweet_count.min()].jpg_url)"
   ]
  },
  {
   "cell_type": "code",
   "execution_count": 71,
   "metadata": {},
   "outputs": [
    {
     "data": {
      "text/plain": [
       "count      1964.000000\n",
       "mean       8126.608961\n",
       "std       11953.717413\n",
       "min          69.000000\n",
       "25%        1743.000000\n",
       "50%        3666.000000\n",
       "75%       10141.500000\n",
       "max      152220.000000\n",
       "Name: favorite_count, dtype: float64"
      ]
     },
     "execution_count": 71,
     "metadata": {},
     "output_type": "execute_result"
    }
   ],
   "source": [
    "df.favorite_count.describe()"
   ]
  },
  {
   "cell_type": "code",
   "execution_count": 72,
   "metadata": {},
   "outputs": [
    {
     "data": {
      "text/plain": [
       "[\"Here's a doggo realizing you can stand in a pool. 13/10 enlightened af (vid by Tina Conrad) https://t.co/7wE9LTEXC4\"]"
      ]
     },
     "execution_count": 72,
     "metadata": {},
     "output_type": "execute_result"
    }
   ],
   "source": [
    "list(df[df.favorite_count == df.favorite_count.max()].text)"
   ]
  },
  {
   "cell_type": "code",
   "execution_count": 73,
   "metadata": {},
   "outputs": [
    {
     "data": {
      "text/plain": [
       "['Oh my. Here you are seeing an Adobe Setter giving birth to twins!!! The world is an amazing place. 11/10 https://t.co/11LvqN4WLq']"
      ]
     },
     "execution_count": 73,
     "metadata": {},
     "output_type": "execute_result"
    }
   ],
   "source": [
    "list(df[df.favorite_count == df.favorite_count.min()].text)"
   ]
  },
  {
   "cell_type": "code",
   "execution_count": 74,
   "metadata": {},
   "outputs": [
    {
     "data": {
      "text/plain": [
       "golden_retriever      137\n",
       "Labrador_retriever     94\n",
       "Pembroke               88\n",
       "Chihuahua              78\n",
       "pug                    54\n",
       "                     ... \n",
       "sunglasses              1\n",
       "bighorn                 1\n",
       "king_penguin            1\n",
       "cliff                   1\n",
       "ice_lolly               1\n",
       "Name: prediction_1, Length: 373, dtype: int64"
      ]
     },
     "execution_count": 74,
     "metadata": {},
     "output_type": "execute_result"
    }
   ],
   "source": [
    "df.prediction_1.value_counts()"
   ]
  },
  {
   "cell_type": "code",
   "execution_count": 75,
   "metadata": {},
   "outputs": [
    {
     "data": {
      "image/png": "[encoded data removed]",
      "text/plain": [
       "<Figure size 864x504 with 1 Axes>"
      ]
     },
     "metadata": {
      "needs_background": "light"
     },
     "output_type": "display_data"
    }
   ],
   "source": [
    "df.prediction_1.value_counts()[:10].plot(kind='bar', title='Predictions', figsize=(12,7), legend=True);"
   ]
  },
  {
   "cell_type": "code",
   "execution_count": 76,
   "metadata": {},
   "outputs": [
    {
     "data": {
      "text/plain": [
       "pupper           201\n",
       "doggo             63\n",
       "puppo             22\n",
       "doggo-pupper       8\n",
       "floofer            7\n",
       "doggo-floofer      1\n",
       "doggo-puppo        1\n",
       "Name: dog_breed, dtype: int64"
      ]
     },
     "execution_count": 76,
     "metadata": {},
     "output_type": "execute_result"
    }
   ],
   "source": [
    "df.dog_breed.value_counts()"
   ]
  },
  {
   "cell_type": "code",
   "execution_count": 77,
   "metadata": {},
   "outputs": [
    {
     "data": {
      "image/png": "[encoded data removed]",
      "text/plain": [
       "<Figure size 432x288 with 1 Axes>"
      ]
     },
     "metadata": {
      "needs_background": "light"
     },
     "output_type": "display_data"
    }
   ],
   "source": [
    "df.dog_breed.value_counts().plot(kind='bar', title='Dog Breed Counts', legend=True);"
   ]
  },
  {
   "cell_type": "code",
   "execution_count": 78,
   "metadata": {},
   "outputs": [
    {
     "data": {
      "text/plain": [
       "count    1971.000000\n",
       "mean       12.223237\n",
       "std        41.634034\n",
       "min         0.000000\n",
       "25%        10.000000\n",
       "50%        11.000000\n",
       "75%        12.000000\n",
       "max      1776.000000\n",
       "Name: rating_numerator, dtype: float64"
      ]
     },
     "execution_count": 78,
     "metadata": {},
     "output_type": "execute_result"
    }
   ],
   "source": [
    "df.rating_numerator.describe()"
   ]
  },
  {
   "cell_type": "code",
   "execution_count": 79,
   "metadata": {},
   "outputs": [
    {
     "data": {
      "text/plain": [
       "['Atticus']"
      ]
     },
     "execution_count": 79,
     "metadata": {},
     "output_type": "execute_result"
    }
   ],
   "source": [
    "list(df[df.rating_numerator == df.rating_numerator.max()].name)"
   ]
  },
  {
   "cell_type": "code",
   "execution_count": 80,
   "metadata": {},
   "outputs": [
    {
     "data": {
      "text/plain": [
       "['https://pbs.twimg.com/media/CmgBZ7kWcAAlzFD.jpg']"
      ]
     },
     "execution_count": 80,
     "metadata": {},
     "output_type": "execute_result"
    }
   ],
   "source": [
    "list(df[df.rating_numerator == df.rating_numerator.max()].jpg_url)"
   ]
  },
  {
   "cell_type": "code",
   "execution_count": 81,
   "metadata": {},
   "outputs": [
    {
     "data": {
      "text/plain": [
       "['None']"
      ]
     },
     "execution_count": 81,
     "metadata": {},
     "output_type": "execute_result"
    }
   ],
   "source": [
    "list(df[df.rating_numerator == df.rating_numerator.min()].name)"
   ]
  },
  {
   "cell_type": "code",
   "execution_count": 82,
   "metadata": {},
   "outputs": [
    {
     "data": {
      "text/plain": [
       "['https://pbs.twimg.com/media/C5cOtWVWMAEjO5p.jpg']"
      ]
     },
     "execution_count": 82,
     "metadata": {},
     "output_type": "execute_result"
    }
   ],
   "source": [
    "list(df[df.rating_numerator == df.rating_numerator.min()].jpg_url)"
   ]
  }
 ],
 "metadata": {
  "kernelspec": {
   "display_name": "Python 3",
   "language": "python",
   "name": "python3"
  },
  "language_info": {
   "codemirror_mode": {
    "name": "ipython",
    "version": 3
   },
   "file_extension": ".py",
   "mimetype": "text/x-python",
   "name": "python",
   "nbconvert_exporter": "python",
   "pygments_lexer": "ipython3",
   "version": "3.8.5"
  }
 },
 "nbformat": 4,
 "nbformat_minor": 4
}
